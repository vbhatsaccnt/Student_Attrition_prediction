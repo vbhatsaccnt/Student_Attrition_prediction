{
 "cells": [
  {
   "cell_type": "code",
   "execution_count": 2,
   "metadata": {},
   "outputs": [],
   "source": [
    "import pandas as pd\n",
    "import numpy as np\n",
    "import scipy as sp\n",
    "import sklearn as sk\n",
    "import random \n",
    "import string"
   ]
  },
  {
   "cell_type": "code",
   "execution_count": 3,
   "metadata": {},
   "outputs": [],
   "source": [
    "#Common Model Algorithm\n",
    "\n",
    "from sklearn import tree\n",
    "from sklearn.ensemble import RandomForestClassifier,GradientBoostingClassifier,AdaBoostClassifier"
   ]
  },
  {
   "cell_type": "code",
   "execution_count": 4,
   "metadata": {},
   "outputs": [],
   "source": [
    "#For data pre-processing and other sampling techniques\n",
    "\n",
    "from sklearn.utils import resample\n",
    "from sklearn.model_selection import train_test_split,GridSearchCV,cross_val_score\n",
    "from statsmodels import api as sm\n",
    "from scipy import stats"
   ]
  },
  {
   "cell_type": "code",
   "execution_count": 5,
   "metadata": {},
   "outputs": [],
   "source": [
    "import matplotlib.pyplot as plt\n",
    "\n",
    "import seaborn as sns"
   ]
  },
  {
   "cell_type": "code",
   "execution_count": 6,
   "metadata": {},
   "outputs": [],
   "source": [
    "data =pd.read_excel('Student Applications & Performance.xlsx')"
   ]
  },
  {
   "cell_type": "code",
   "execution_count": 7,
   "metadata": {},
   "outputs": [
    {
     "data": {
      "text/html": [
       "<div>\n",
       "<style scoped>\n",
       "    .dataframe tbody tr th:only-of-type {\n",
       "        vertical-align: middle;\n",
       "    }\n",
       "\n",
       "    .dataframe tbody tr th {\n",
       "        vertical-align: top;\n",
       "    }\n",
       "\n",
       "    .dataframe thead th {\n",
       "        text-align: right;\n",
       "    }\n",
       "</style>\n",
       "<table border=\"1\" class=\"dataframe\">\n",
       "  <thead>\n",
       "    <tr style=\"text-align: right;\">\n",
       "      <th></th>\n",
       "      <th>STUDENT IDENTIFIER</th>\n",
       "      <th>STDNT_AGE</th>\n",
       "      <th>STDNT_GENDER</th>\n",
       "      <th>STDNT_BACKGROUND</th>\n",
       "      <th>IN_STATE_FLAG</th>\n",
       "      <th>INTERNATIONAL_STS</th>\n",
       "      <th>STDNT_MAJOR</th>\n",
       "      <th>STDNT_MINOR</th>\n",
       "      <th>STDNT_TEST_ENTRANCE1</th>\n",
       "      <th>STDNT_TEST_ENTRANCE2</th>\n",
       "      <th>...</th>\n",
       "      <th>DEGREE_GROUP_CD</th>\n",
       "      <th>DEGREE_GROUP_DESC</th>\n",
       "      <th>FIRST_TERM_ATTEMPT_HRS</th>\n",
       "      <th>FIRST_TERM_EARNED_HRS</th>\n",
       "      <th>SECOND_TERM_ATTEMPT_HRS</th>\n",
       "      <th>SECOND_TERM_EARNED_HRS</th>\n",
       "      <th>GROSS_FIN_NEED</th>\n",
       "      <th>COST_OF_ATTEND</th>\n",
       "      <th>EST_FAM_CONTRIBUTION</th>\n",
       "      <th>UNMET_NEED</th>\n",
       "    </tr>\n",
       "  </thead>\n",
       "  <tbody>\n",
       "    <tr>\n",
       "      <td>0</td>\n",
       "      <td>7808615</td>\n",
       "      <td>18</td>\n",
       "      <td>F</td>\n",
       "      <td>BGD 1</td>\n",
       "      <td>Y</td>\n",
       "      <td>N</td>\n",
       "      <td>Undeclared</td>\n",
       "      <td>N</td>\n",
       "      <td>NaN</td>\n",
       "      <td>1150.0</td>\n",
       "      <td>...</td>\n",
       "      <td>B</td>\n",
       "      <td>Bachelors</td>\n",
       "      <td>16</td>\n",
       "      <td>16</td>\n",
       "      <td>14.0</td>\n",
       "      <td>14.0</td>\n",
       "      <td>0</td>\n",
       "      <td>0</td>\n",
       "      <td>0</td>\n",
       "      <td>0.0</td>\n",
       "    </tr>\n",
       "    <tr>\n",
       "      <td>1</td>\n",
       "      <td>7830063</td>\n",
       "      <td>19</td>\n",
       "      <td>F</td>\n",
       "      <td>BGD 1</td>\n",
       "      <td>N</td>\n",
       "      <td>N</td>\n",
       "      <td>Undeclared</td>\n",
       "      <td>N</td>\n",
       "      <td>26.0</td>\n",
       "      <td>NaN</td>\n",
       "      <td>...</td>\n",
       "      <td>B</td>\n",
       "      <td>Bachelors</td>\n",
       "      <td>18</td>\n",
       "      <td>18</td>\n",
       "      <td>18.0</td>\n",
       "      <td>18.0</td>\n",
       "      <td>570000</td>\n",
       "      <td>1355760</td>\n",
       "      <td>785760</td>\n",
       "      <td>459300.0</td>\n",
       "    </tr>\n",
       "    <tr>\n",
       "      <td>2</td>\n",
       "      <td>7847538</td>\n",
       "      <td>18</td>\n",
       "      <td>M</td>\n",
       "      <td>BGD 1</td>\n",
       "      <td>Y</td>\n",
       "      <td>N</td>\n",
       "      <td>Mathematics</td>\n",
       "      <td>N</td>\n",
       "      <td>NaN</td>\n",
       "      <td>1020.0</td>\n",
       "      <td>...</td>\n",
       "      <td>B</td>\n",
       "      <td>Bachelors</td>\n",
       "      <td>15</td>\n",
       "      <td>15</td>\n",
       "      <td>14.0</td>\n",
       "      <td>14.0</td>\n",
       "      <td>0</td>\n",
       "      <td>0</td>\n",
       "      <td>0</td>\n",
       "      <td>0.0</td>\n",
       "    </tr>\n",
       "    <tr>\n",
       "      <td>3</td>\n",
       "      <td>8006429</td>\n",
       "      <td>18</td>\n",
       "      <td>M</td>\n",
       "      <td>BGD 1</td>\n",
       "      <td>Y</td>\n",
       "      <td>N</td>\n",
       "      <td>Undeclared</td>\n",
       "      <td>N</td>\n",
       "      <td>NaN</td>\n",
       "      <td>1210.0</td>\n",
       "      <td>...</td>\n",
       "      <td>B</td>\n",
       "      <td>Bachelors</td>\n",
       "      <td>13</td>\n",
       "      <td>13</td>\n",
       "      <td>14.0</td>\n",
       "      <td>14.0</td>\n",
       "      <td>0</td>\n",
       "      <td>0</td>\n",
       "      <td>0</td>\n",
       "      <td>0.0</td>\n",
       "    </tr>\n",
       "  </tbody>\n",
       "</table>\n",
       "<p>4 rows × 56 columns</p>\n",
       "</div>"
      ],
      "text/plain": [
       "   STUDENT IDENTIFIER  STDNT_AGE STDNT_GENDER STDNT_BACKGROUND IN_STATE_FLAG  \\\n",
       "0             7808615         18            F            BGD 1             Y   \n",
       "1             7830063         19            F            BGD 1             N   \n",
       "2             7847538         18            M            BGD 1             Y   \n",
       "3             8006429         18            M            BGD 1             Y   \n",
       "\n",
       "  INTERNATIONAL_STS  STDNT_MAJOR STDNT_MINOR  STDNT_TEST_ENTRANCE1  \\\n",
       "0                 N   Undeclared           N                   NaN   \n",
       "1                 N   Undeclared           N                  26.0   \n",
       "2                 N  Mathematics           N                   NaN   \n",
       "3                 N   Undeclared           N                   NaN   \n",
       "\n",
       "   STDNT_TEST_ENTRANCE2  ...  DEGREE_GROUP_CD  DEGREE_GROUP_DESC  \\\n",
       "0                1150.0  ...                B          Bachelors   \n",
       "1                   NaN  ...                B          Bachelors   \n",
       "2                1020.0  ...                B          Bachelors   \n",
       "3                1210.0  ...                B          Bachelors   \n",
       "\n",
       "  FIRST_TERM_ATTEMPT_HRS FIRST_TERM_EARNED_HRS SECOND_TERM_ATTEMPT_HRS  \\\n",
       "0                     16                    16                    14.0   \n",
       "1                     18                    18                    18.0   \n",
       "2                     15                    15                    14.0   \n",
       "3                     13                    13                    14.0   \n",
       "\n",
       "  SECOND_TERM_EARNED_HRS GROSS_FIN_NEED COST_OF_ATTEND EST_FAM_CONTRIBUTION  \\\n",
       "0                   14.0              0              0                    0   \n",
       "1                   18.0         570000        1355760               785760   \n",
       "2                   14.0              0              0                    0   \n",
       "3                   14.0              0              0                    0   \n",
       "\n",
       "  UNMET_NEED  \n",
       "0        0.0  \n",
       "1   459300.0  \n",
       "2        0.0  \n",
       "3        0.0  \n",
       "\n",
       "[4 rows x 56 columns]"
      ]
     },
     "execution_count": 7,
     "metadata": {},
     "output_type": "execute_result"
    }
   ],
   "source": [
    "data.head(4)"
   ]
  },
  {
   "cell_type": "code",
   "execution_count": 8,
   "metadata": {},
   "outputs": [
    {
     "data": {
      "text/plain": [
       "(3400, 56)"
      ]
     },
     "execution_count": 8,
     "metadata": {},
     "output_type": "execute_result"
    }
   ],
   "source": [
    "data.shape"
   ]
  },
  {
   "cell_type": "code",
   "execution_count": 9,
   "metadata": {},
   "outputs": [
    {
     "data": {
      "text/plain": [
       "STUDENT IDENTIFIER             0\n",
       "STDNT_AGE                      0\n",
       "STDNT_GENDER                   0\n",
       "STDNT_BACKGROUND               0\n",
       "IN_STATE_FLAG                  0\n",
       "INTERNATIONAL_STS              0\n",
       "STDNT_MAJOR                    0\n",
       "STDNT_MINOR                    0\n",
       "STDNT_TEST_ENTRANCE1        2294\n",
       "STDNT_TEST_ENTRANCE2         908\n",
       "STDNT_TEST_ENTRANCE_COMB     518\n",
       "FIRST_TERM                     0\n",
       "CORE_COURSE_NAME_1_F           0\n",
       "CORE_COURSE_GRADE_1_F          0\n",
       "CORE_COURSE_NAME_2_F          99\n",
       "CORE_COURSE_GRADE_2_F         99\n",
       "CORE_COURSE_NAME_3_F         565\n",
       "CORE_COURSE_GRADE_3_F        565\n",
       "CORE_COURSE_NAME_4_F        1597\n",
       "CORE_COURSE_GRADE_4_F       1597\n",
       "CORE_COURSE_NAME_5_F        2755\n",
       "CORE_COURSE_GRADE_5_F       2755\n",
       "CORE_COURSE_NAME_6_F        3272\n",
       "CORE_COURSE_GRADE_6_F       3272\n",
       "SECOND_TERM                    0\n",
       "CORE_COURSE_NAME_1_S         157\n",
       "CORE_COURSE_GRADE_1_S        232\n",
       "CORE_COURSE_NAME_2_S         439\n",
       "CORE_COURSE_GRADE_2_S        439\n",
       "CORE_COURSE_NAME_3_S        1038\n",
       "CORE_COURSE_GRADE_3_S       1038\n",
       "CORE_COURSE_NAME_4_S        2045\n",
       "CORE_COURSE_GRADE_4_S       2045\n",
       "CORE_COURSE_NAME_5_S        2950\n",
       "CORE_COURSE_GRADE_5_S       2950\n",
       "CORE_COURSE_NAME_6_S        3319\n",
       "CORE_COURSE_GRADE_6_S       3319\n",
       "HOUSING_STS                    0\n",
       "RETURNED_2ND_YR                0\n",
       "DISTANCE_FROM_HOME            25\n",
       "HIGH_SCHL_GPA                 53\n",
       "HIGH_SCHL_NAME                 1\n",
       "FATHER_HI_EDU_CD             432\n",
       "FATHER_HI_EDU_DESC             0\n",
       "MOTHER_HI_EDU_CD             489\n",
       "MOTHER_HI_EDU_DESC             0\n",
       "DEGREE_GROUP_CD                0\n",
       "DEGREE_GROUP_DESC              0\n",
       "FIRST_TERM_ATTEMPT_HRS         0\n",
       "FIRST_TERM_EARNED_HRS          0\n",
       "SECOND_TERM_ATTEMPT_HRS      206\n",
       "SECOND_TERM_EARNED_HRS       209\n",
       "GROSS_FIN_NEED                 0\n",
       "COST_OF_ATTEND                 0\n",
       "EST_FAM_CONTRIBUTION           0\n",
       "UNMET_NEED                     0\n",
       "dtype: int64"
      ]
     },
     "execution_count": 9,
     "metadata": {},
     "output_type": "execute_result"
    }
   ],
   "source": [
    "#Data Quality Checks\n",
    "\n",
    "#Looking for null values\n",
    "\n",
    "data.isnull().sum()"
   ]
  },
  {
   "cell_type": "code",
   "execution_count": 10,
   "metadata": {},
   "outputs": [
    {
     "data": {
      "text/plain": [
       "<matplotlib.axes._subplots.AxesSubplot at 0x137e6611b08>"
      ]
     },
     "execution_count": 10,
     "metadata": {},
     "output_type": "execute_result"
    },
    {
     "data": {
      "image/png": "[encoded data removed]",
      "text/plain": [
       "<Figure size 432x288 with 1 Axes>"
      ]
     },
     "metadata": {
      "needs_background": "light"
     },
     "output_type": "display_data"
    }
   ],
   "source": [
    "sns.heatmap(data.isnull(),yticklabels = False,cbar = False,cmap ='viridis')"
   ]
  },
  {
   "cell_type": "code",
   "execution_count": 11,
   "metadata": {
    "scrolled": true
   },
   "outputs": [
    {
     "data": {
      "image/png": "[encoded data removed]",
      "text/plain": [
       "<Figure size 1440x1440 with 20 Axes>"
      ]
     },
     "metadata": {
      "needs_background": "light"
     },
     "output_type": "display_data"
    }
   ],
   "source": [
    "data.hist(figsize=(20,20))\n",
    "plt.show()"
   ]
  },
  {
   "cell_type": "code",
   "execution_count": 12,
   "metadata": {},
   "outputs": [],
   "source": [
    "#DROPING COLUMNS\n",
    "data.drop(['STDNT_TEST_ENTRANCE1','STDNT_TEST_ENTRANCE2','FATHER_HI_EDU_CD','MOTHER_HI_EDU_CD','CORE_COURSE_NAME_4_F','CORE_COURSE_GRADE_4_F'\n",
    "         ,'CORE_COURSE_NAME_5_F','CORE_COURSE_GRADE_5_F','CORE_COURSE_NAME_6_F','CORE_COURSE_GRADE_6_F','CORE_COURSE_NAME_6_S','CORE_COURSE_GRADE_6_S',\n",
    "         'CORE_COURSE_NAME_5_S','CORE_COURSE_GRADE_5_S','CORE_COURSE_NAME_4_S','CORE_COURSE_GRADE_4_S','HIGH_SCHL_NAME','STDNT_MINOR','DEGREE_GROUP_CD'],axis = 1,inplace = True)\n",
    "\n",
    "\n",
    "\n",
    "\n",
    "\n"
   ]
  },
  {
   "cell_type": "code",
   "execution_count": 13,
   "metadata": {},
   "outputs": [
    {
     "data": {
      "text/plain": [
       "(3400, 37)"
      ]
     },
     "execution_count": 13,
     "metadata": {},
     "output_type": "execute_result"
    }
   ],
   "source": [
    "data.shape"
   ]
  },
  {
   "cell_type": "code",
   "execution_count": 14,
   "metadata": {},
   "outputs": [],
   "source": [
    "#TARGET VARIABLE\n",
    "\n",
    "def d(x):\n",
    "    if x==0.0:\n",
    "        return 1.0\n",
    "    else:\n",
    "        return 0.0"
   ]
  },
  {
   "cell_type": "code",
   "execution_count": 15,
   "metadata": {},
   "outputs": [],
   "source": [
    "data['RETURNED_2ND_YR'] = data['RETURNED_2ND_YR'].map(d)"
   ]
  },
  {
   "cell_type": "code",
   "execution_count": 16,
   "metadata": {},
   "outputs": [
    {
     "data": {
      "text/plain": [
       "0.0    2677\n",
       "1.0     723\n",
       "Name: RETURNED_2ND_YR, dtype: int64"
      ]
     },
     "execution_count": 16,
     "metadata": {},
     "output_type": "execute_result"
    }
   ],
   "source": [
    "data['RETURNED_2ND_YR'].value_counts()"
   ]
  },
  {
   "cell_type": "code",
   "execution_count": 17,
   "metadata": {},
   "outputs": [],
   "source": [
    "#DATA CLEANING\n",
    "\n",
    "data['FIRST_TERM'] = data['FIRST_TERM'].replace({200508:2005,200608:2006,200708:2007,200808:2008,200908:2009,201008:2010})"
   ]
  },
  {
   "cell_type": "code",
   "execution_count": 18,
   "metadata": {},
   "outputs": [
    {
     "data": {
      "text/plain": [
       "0    2007\n",
       "1    2008\n",
       "2    2010\n",
       "3    2007\n",
       "4    2008\n",
       "Name: FIRST_TERM, dtype: int64"
      ]
     },
     "execution_count": 18,
     "metadata": {},
     "output_type": "execute_result"
    }
   ],
   "source": [
    "data['FIRST_TERM'].head()"
   ]
  },
  {
   "cell_type": "code",
   "execution_count": 19,
   "metadata": {},
   "outputs": [],
   "source": [
    "data['SECOND_TERM'] = data['SECOND_TERM'].replace({200602:2006,200702:2007,200802:2008,200902:2009,201002:2010,201102:2011})"
   ]
  },
  {
   "cell_type": "code",
   "execution_count": 20,
   "metadata": {},
   "outputs": [
    {
     "data": {
      "text/plain": [
       "0    2008\n",
       "1    2009\n",
       "2    2011\n",
       "3    2008\n",
       "4    2009\n",
       "Name: SECOND_TERM, dtype: int64"
      ]
     },
     "execution_count": 20,
     "metadata": {},
     "output_type": "execute_result"
    }
   ],
   "source": [
    "data['SECOND_TERM'].head()"
   ]
  },
  {
   "cell_type": "code",
   "execution_count": 21,
   "metadata": {},
   "outputs": [],
   "source": [
    "data['CORE_COURSE_NAME_1_F'] = data['CORE_COURSE_NAME_1_F'].str.slice(0,4)"
   ]
  },
  {
   "cell_type": "code",
   "execution_count": 22,
   "metadata": {},
   "outputs": [
    {
     "data": {
      "text/plain": [
       "0    ENGL 1102\n",
       "1    ITDS 2735\n",
       "2    HIST 2111\n",
       "3          NaN\n",
       "4    CPSC 1105\n",
       "Name: CORE_COURSE_NAME_3_F, dtype: object"
      ]
     },
     "execution_count": 22,
     "metadata": {},
     "output_type": "execute_result"
    }
   ],
   "source": [
    "data['CORE_COURSE_NAME_3_F'].head()"
   ]
  },
  {
   "cell_type": "code",
   "execution_count": 23,
   "metadata": {},
   "outputs": [],
   "source": [
    "data['CORE_COURSE_NAME_2_F'] = data['CORE_COURSE_NAME_2_F'].str.slice(0,4)"
   ]
  },
  {
   "cell_type": "code",
   "execution_count": 24,
   "metadata": {},
   "outputs": [],
   "source": [
    "data['CORE_COURSE_NAME_3_F'] = data['CORE_COURSE_NAME_3_F'].str.slice(0,4)"
   ]
  },
  {
   "cell_type": "code",
   "execution_count": 25,
   "metadata": {},
   "outputs": [
    {
     "name": "stderr",
     "output_type": "stream",
     "text": [
      "C:\\Users\\viksb\\Anaconda3\\lib\\site-packages\\numpy\\core\\fromnumeric.py:2389: FutureWarning: Method .ptp is deprecated and will be removed in a future version. Use numpy.ptp instead.\n",
      "  return ptp(axis=axis, out=out, **kwargs)\n"
     ]
    },
    {
     "data": {
      "text/html": [
       "<div>\n",
       "<style scoped>\n",
       "    .dataframe tbody tr th:only-of-type {\n",
       "        vertical-align: middle;\n",
       "    }\n",
       "\n",
       "    .dataframe tbody tr th {\n",
       "        vertical-align: top;\n",
       "    }\n",
       "\n",
       "    .dataframe thead th {\n",
       "        text-align: right;\n",
       "    }\n",
       "</style>\n",
       "<table border=\"1\" class=\"dataframe\">\n",
       "  <thead>\n",
       "    <tr style=\"text-align: right;\">\n",
       "      <th></th>\n",
       "      <th>const</th>\n",
       "      <th>STUDENT IDENTIFIER</th>\n",
       "      <th>STDNT_AGE</th>\n",
       "      <th>STDNT_GENDER</th>\n",
       "      <th>STDNT_BACKGROUND</th>\n",
       "      <th>IN_STATE_FLAG</th>\n",
       "      <th>INTERNATIONAL_STS</th>\n",
       "      <th>STDNT_MAJOR</th>\n",
       "      <th>STDNT_TEST_ENTRANCE_COMB</th>\n",
       "      <th>FIRST_TERM</th>\n",
       "      <th>...</th>\n",
       "      <th>MOTHER_HI_EDU_DESC</th>\n",
       "      <th>DEGREE_GROUP_DESC</th>\n",
       "      <th>FIRST_TERM_ATTEMPT_HRS</th>\n",
       "      <th>FIRST_TERM_EARNED_HRS</th>\n",
       "      <th>SECOND_TERM_ATTEMPT_HRS</th>\n",
       "      <th>SECOND_TERM_EARNED_HRS</th>\n",
       "      <th>GROSS_FIN_NEED</th>\n",
       "      <th>COST_OF_ATTEND</th>\n",
       "      <th>EST_FAM_CONTRIBUTION</th>\n",
       "      <th>UNMET_NEED</th>\n",
       "    </tr>\n",
       "  </thead>\n",
       "  <tbody>\n",
       "    <tr>\n",
       "      <td>0</td>\n",
       "      <td>1.0</td>\n",
       "      <td>7808615</td>\n",
       "      <td>18</td>\n",
       "      <td>F</td>\n",
       "      <td>BGD 1</td>\n",
       "      <td>Y</td>\n",
       "      <td>N</td>\n",
       "      <td>Undeclared</td>\n",
       "      <td>1150.0</td>\n",
       "      <td>2007</td>\n",
       "      <td>...</td>\n",
       "      <td>No Information</td>\n",
       "      <td>Bachelors</td>\n",
       "      <td>16</td>\n",
       "      <td>16</td>\n",
       "      <td>14.0</td>\n",
       "      <td>14.0</td>\n",
       "      <td>0</td>\n",
       "      <td>0</td>\n",
       "      <td>0</td>\n",
       "      <td>0.0</td>\n",
       "    </tr>\n",
       "    <tr>\n",
       "      <td>1</td>\n",
       "      <td>1.0</td>\n",
       "      <td>7830063</td>\n",
       "      <td>19</td>\n",
       "      <td>F</td>\n",
       "      <td>BGD 1</td>\n",
       "      <td>N</td>\n",
       "      <td>N</td>\n",
       "      <td>Undeclared</td>\n",
       "      <td>1190.0</td>\n",
       "      <td>2008</td>\n",
       "      <td>...</td>\n",
       "      <td>College/Beyond</td>\n",
       "      <td>Bachelors</td>\n",
       "      <td>18</td>\n",
       "      <td>18</td>\n",
       "      <td>18.0</td>\n",
       "      <td>18.0</td>\n",
       "      <td>570000</td>\n",
       "      <td>1355760</td>\n",
       "      <td>785760</td>\n",
       "      <td>459300.0</td>\n",
       "    </tr>\n",
       "    <tr>\n",
       "      <td>2</td>\n",
       "      <td>1.0</td>\n",
       "      <td>7847538</td>\n",
       "      <td>18</td>\n",
       "      <td>M</td>\n",
       "      <td>BGD 1</td>\n",
       "      <td>Y</td>\n",
       "      <td>N</td>\n",
       "      <td>Mathematics</td>\n",
       "      <td>1030.0</td>\n",
       "      <td>2010</td>\n",
       "      <td>...</td>\n",
       "      <td>Other/Unknown</td>\n",
       "      <td>Bachelors</td>\n",
       "      <td>15</td>\n",
       "      <td>15</td>\n",
       "      <td>14.0</td>\n",
       "      <td>14.0</td>\n",
       "      <td>0</td>\n",
       "      <td>0</td>\n",
       "      <td>0</td>\n",
       "      <td>0.0</td>\n",
       "    </tr>\n",
       "    <tr>\n",
       "      <td>3</td>\n",
       "      <td>1.0</td>\n",
       "      <td>8006429</td>\n",
       "      <td>18</td>\n",
       "      <td>M</td>\n",
       "      <td>BGD 1</td>\n",
       "      <td>Y</td>\n",
       "      <td>N</td>\n",
       "      <td>Undeclared</td>\n",
       "      <td>1220.0</td>\n",
       "      <td>2007</td>\n",
       "      <td>...</td>\n",
       "      <td>College/Beyond</td>\n",
       "      <td>Bachelors</td>\n",
       "      <td>13</td>\n",
       "      <td>13</td>\n",
       "      <td>14.0</td>\n",
       "      <td>14.0</td>\n",
       "      <td>0</td>\n",
       "      <td>0</td>\n",
       "      <td>0</td>\n",
       "      <td>0.0</td>\n",
       "    </tr>\n",
       "    <tr>\n",
       "      <td>4</td>\n",
       "      <td>1.0</td>\n",
       "      <td>7962680</td>\n",
       "      <td>18</td>\n",
       "      <td>F</td>\n",
       "      <td>BGD 1</td>\n",
       "      <td>Y</td>\n",
       "      <td>N</td>\n",
       "      <td>Art</td>\n",
       "      <td>1190.0</td>\n",
       "      <td>2008</td>\n",
       "      <td>...</td>\n",
       "      <td>High School</td>\n",
       "      <td>Bachelors</td>\n",
       "      <td>12</td>\n",
       "      <td>12</td>\n",
       "      <td>12.0</td>\n",
       "      <td>12.0</td>\n",
       "      <td>835920</td>\n",
       "      <td>1355760</td>\n",
       "      <td>519840</td>\n",
       "      <td>278340.0</td>\n",
       "    </tr>\n",
       "  </tbody>\n",
       "</table>\n",
       "<p>5 rows × 38 columns</p>\n",
       "</div>"
      ],
      "text/plain": [
       "   const  STUDENT IDENTIFIER  STDNT_AGE STDNT_GENDER STDNT_BACKGROUND  \\\n",
       "0    1.0             7808615         18            F            BGD 1   \n",
       "1    1.0             7830063         19            F            BGD 1   \n",
       "2    1.0             7847538         18            M            BGD 1   \n",
       "3    1.0             8006429         18            M            BGD 1   \n",
       "4    1.0             7962680         18            F            BGD 1   \n",
       "\n",
       "  IN_STATE_FLAG INTERNATIONAL_STS  STDNT_MAJOR  STDNT_TEST_ENTRANCE_COMB  \\\n",
       "0             Y                 N   Undeclared                    1150.0   \n",
       "1             N                 N   Undeclared                    1190.0   \n",
       "2             Y                 N  Mathematics                    1030.0   \n",
       "3             Y                 N   Undeclared                    1220.0   \n",
       "4             Y                 N          Art                    1190.0   \n",
       "\n",
       "   FIRST_TERM  ... MOTHER_HI_EDU_DESC DEGREE_GROUP_DESC  \\\n",
       "0        2007  ...     No Information         Bachelors   \n",
       "1        2008  ...     College/Beyond         Bachelors   \n",
       "2        2010  ...      Other/Unknown         Bachelors   \n",
       "3        2007  ...     College/Beyond         Bachelors   \n",
       "4        2008  ...        High School         Bachelors   \n",
       "\n",
       "  FIRST_TERM_ATTEMPT_HRS FIRST_TERM_EARNED_HRS SECOND_TERM_ATTEMPT_HRS  \\\n",
       "0                     16                    16                    14.0   \n",
       "1                     18                    18                    18.0   \n",
       "2                     15                    15                    14.0   \n",
       "3                     13                    13                    14.0   \n",
       "4                     12                    12                    12.0   \n",
       "\n",
       "  SECOND_TERM_EARNED_HRS  GROSS_FIN_NEED COST_OF_ATTEND EST_FAM_CONTRIBUTION  \\\n",
       "0                   14.0               0              0                    0   \n",
       "1                   18.0          570000        1355760               785760   \n",
       "2                   14.0               0              0                    0   \n",
       "3                   14.0               0              0                    0   \n",
       "4                   12.0          835920        1355760               519840   \n",
       "\n",
       "  UNMET_NEED  \n",
       "0        0.0  \n",
       "1   459300.0  \n",
       "2        0.0  \n",
       "3        0.0  \n",
       "4   278340.0  \n",
       "\n",
       "[5 rows x 38 columns]"
      ]
     },
     "execution_count": 25,
     "metadata": {},
     "output_type": "execute_result"
    }
   ],
   "source": [
    "from statsmodels.tools import add_constant as add_constant\n",
    "\n",
    "data = add_constant(data)\n",
    "\n",
    "data.head()"
   ]
  },
  {
   "cell_type": "code",
   "execution_count": 26,
   "metadata": {},
   "outputs": [
    {
     "name": "stdout",
     "output_type": "stream",
     "text": [
      "Ex-student:average age =18.0 years old and standard deviation =0.6\n"
     ]
    }
   ],
   "source": [
    "from scipy.stats import norm,skew\n",
    "\n",
    "(mu,sigma) = norm.fit(data.loc[data['RETURNED_2ND_YR']== 1,'STDNT_AGE'])\n",
    "\n",
    "print('Ex-student:average age ={:.1f} years old and standard deviation ={:.1f}'.format(mu,sigma))\n",
    "\n"
   ]
  },
  {
   "cell_type": "code",
   "execution_count": 27,
   "metadata": {},
   "outputs": [
    {
     "name": "stdout",
     "output_type": "stream",
     "text": [
      "Current student:average age =18.0 years old and standard deviation =0.5\n"
     ]
    }
   ],
   "source": [
    "(mu,sigma) = norm.fit(data.loc[data['RETURNED_2ND_YR']== 0,'STDNT_AGE'])\n",
    "\n",
    "print('Current student:average age ={:.1f} years old and standard deviation ={:.1f}'.format(mu,sigma))"
   ]
  },
  {
   "cell_type": "code",
   "execution_count": 28,
   "metadata": {},
   "outputs": [
    {
     "data": {
      "image/png": "[encoded data removed]",
      "text/plain": [
       "<Figure size 1080x432 with 1 Axes>"
      ]
     },
     "metadata": {
      "needs_background": "light"
     },
     "output_type": "display_data"
    }
   ],
   "source": [
    "plt.figure(figsize=(15,6))\n",
    "plt.style.use('seaborn-colorblind')\n",
    "\n",
    "plt.grid(True,alpha=0.5)\n",
    "sns.kdeplot(data.loc[data['RETURNED_2ND_YR']==0,'STDNT_AGE'],label ='Active Student',color ='red')\n",
    "\n",
    "sns.kdeplot(data.loc[data['RETURNED_2ND_YR']==1,'STDNT_AGE'],label ='Ex-Student',color ='green')\n",
    "\n",
    "plt.xlim(left=16,right=26)\n",
    "plt.xlabel('Age (years)')\n",
    "plt.ylabel('Density')\n",
    "plt.title('Age Distribution in Percent by Attriton Status');"
   ]
  },
  {
   "cell_type": "code",
   "execution_count": 29,
   "metadata": {},
   "outputs": [
    {
     "data": {
      "text/plain": [
       "<matplotlib.axes._subplots.AxesSubplot at 0x137e8861f08>"
      ]
     },
     "execution_count": 29,
     "metadata": {},
     "output_type": "execute_result"
    },
    {
     "data": {
      "image/png": "[encoded data removed]",
      "text/plain": [
       "<Figure size 432x288 with 1 Axes>"
      ]
     },
     "metadata": {
      "needs_background": "light"
     },
     "output_type": "display_data"
    }
   ],
   "source": [
    "sns.countplot(x ='HOUSING_STS',data=data)"
   ]
  },
  {
   "cell_type": "code",
   "execution_count": 30,
   "metadata": {},
   "outputs": [
    {
     "data": {
      "text/plain": [
       "<matplotlib.axes._subplots.AxesSubplot at 0x137e88c4b88>"
      ]
     },
     "execution_count": 30,
     "metadata": {},
     "output_type": "execute_result"
    },
    {
     "data": {
      "image/png": "[encoded data removed]",
      "text/plain": [
       "<Figure size 432x288 with 1 Axes>"
      ]
     },
     "metadata": {},
     "output_type": "display_data"
    }
   ],
   "source": [
    "sns.set_style('whitegrid')\n",
    "sns.countplot(x ='RETURNED_2ND_YR',hue='STDNT_BACKGROUND',data = data,palette ='RdBu_r')"
   ]
  },
  {
   "cell_type": "code",
   "execution_count": 31,
   "metadata": {},
   "outputs": [
    {
     "data": {
      "text/plain": [
       "<matplotlib.axes._subplots.AxesSubplot at 0x137e9145e08>"
      ]
     },
     "execution_count": 31,
     "metadata": {},
     "output_type": "execute_result"
    },
    {
     "data": {
      "image/png": "[encoded data removed]",
      "text/plain": [
       "<Figure size 432x288 with 1 Axes>"
      ]
     },
     "metadata": {},
     "output_type": "display_data"
    }
   ],
   "source": [
    "sns.set_style('whitegrid')\n",
    "sns.countplot(x ='RETURNED_2ND_YR',hue='IN_STATE_FLAG',data = data,palette ='RdBu_r')"
   ]
  },
  {
   "cell_type": "code",
   "execution_count": 32,
   "metadata": {},
   "outputs": [
    {
     "data": {
      "text/plain": [
       "<matplotlib.axes._subplots.AxesSubplot at 0x137e89d9688>"
      ]
     },
     "execution_count": 32,
     "metadata": {},
     "output_type": "execute_result"
    },
    {
     "data": {
      "image/png": "[encoded data removed]",
      "text/plain": [
       "<Figure size 432x288 with 1 Axes>"
      ]
     },
     "metadata": {},
     "output_type": "display_data"
    }
   ],
   "source": [
    "sns.set_style('whitegrid')\n",
    "sns.countplot(x ='RETURNED_2ND_YR',hue='STDNT_GENDER',data = data,palette ='RdBu_r')"
   ]
  },
  {
   "cell_type": "code",
   "execution_count": 33,
   "metadata": {},
   "outputs": [
    {
     "name": "stdout",
     "output_type": "stream",
     "text": [
      "const                             0.00\n",
      "STUDENT IDENTIFIER           136968.75\n",
      "STDNT_AGE                         0.00\n",
      "STDNT_TEST_ENTRANCE_COMB        200.00\n",
      "FIRST_TERM                        3.00\n",
      "SECOND_TERM                       3.00\n",
      "RETURNED_2ND_YR                   0.00\n",
      "DISTANCE_FROM_HOME               69.00\n",
      "HIGH_SCHL_GPA                     0.69\n",
      "FIRST_TERM_ATTEMPT_HRS            2.00\n",
      "FIRST_TERM_EARNED_HRS             4.00\n",
      "SECOND_TERM_ATTEMPT_HRS           3.00\n",
      "SECOND_TERM_EARNED_HRS            4.00\n",
      "GROSS_FIN_NEED               599580.00\n",
      "COST_OF_ATTEND              1192815.00\n",
      "EST_FAM_CONTRIBUTION         324180.00\n",
      "UNMET_NEED                   187615.50\n",
      "dtype: float64\n"
     ]
    }
   ],
   "source": [
    "Q1 =data.quantile(0.25)\n",
    "Q3 = data.quantile(0.75)\n",
    "\n",
    "IQR = Q3 - Q1\n",
    "\n",
    "print(IQR)"
   ]
  },
  {
   "cell_type": "code",
   "execution_count": 34,
   "metadata": {},
   "outputs": [
    {
     "data": {
      "image/png": "[encoded data removed]",
      "text/plain": [
       "<Figure size 432x288 with 1 Axes>"
      ]
     },
     "metadata": {},
     "output_type": "display_data"
    }
   ],
   "source": [
    "sns.set(style ='whitegrid')\n",
    "ax = sns.boxplot(x =data['STDNT_GENDER'],y ='DISTANCE_FROM_HOME',data = data ,palette ='winter')"
   ]
  },
  {
   "cell_type": "code",
   "execution_count": 35,
   "metadata": {},
   "outputs": [
    {
     "name": "stdout",
     "output_type": "stream",
     "text": [
      "18.439510065174744\n"
     ]
    }
   ],
   "source": [
    "print(data['DISTANCE_FROM_HOME'].skew())"
   ]
  },
  {
   "cell_type": "code",
   "execution_count": 36,
   "metadata": {},
   "outputs": [
    {
     "data": {
      "text/plain": [
       "count    3375.000000\n",
       "mean       99.825185\n",
       "std       235.196984\n",
       "min         0.000000\n",
       "25%        69.000000\n",
       "50%        69.000000\n",
       "75%       138.000000\n",
       "max      5932.000000\n",
       "Name: DISTANCE_FROM_HOME, dtype: float64"
      ]
     },
     "execution_count": 36,
     "metadata": {},
     "output_type": "execute_result"
    }
   ],
   "source": [
    "data['DISTANCE_FROM_HOME'].describe()"
   ]
  },
  {
   "cell_type": "code",
   "execution_count": 37,
   "metadata": {},
   "outputs": [
    {
     "name": "stdout",
     "output_type": "stream",
     "text": [
      "0.0\n",
      "150.0\n"
     ]
    }
   ],
   "source": [
    "print(data['DISTANCE_FROM_HOME'].quantile(0.10))\n",
    "\n",
    "print(data['DISTANCE_FROM_HOME'].quantile(0.90))"
   ]
  },
  {
   "cell_type": "code",
   "execution_count": 38,
   "metadata": {},
   "outputs": [],
   "source": [
    "data['DISTANCE_FROM_HOME'] = np.where(data['DISTANCE_FROM_HOME'] < 0.0 ,0.0,data['DISTANCE_FROM_HOME'])\n",
    "\n",
    "data['DISTANCE_FROM_HOME'] = np.where(data['DISTANCE_FROM_HOME']> 150 ,150,data['DISTANCE_FROM_HOME'])"
   ]
  },
  {
   "cell_type": "code",
   "execution_count": 39,
   "metadata": {},
   "outputs": [
    {
     "name": "stdout",
     "output_type": "stream",
     "text": [
      "-0.07085149394802058\n"
     ]
    }
   ],
   "source": [
    "print(data['DISTANCE_FROM_HOME'].skew())"
   ]
  },
  {
   "cell_type": "code",
   "execution_count": 40,
   "metadata": {},
   "outputs": [
    {
     "data": {
      "text/html": [
       "<div>\n",
       "<style scoped>\n",
       "    .dataframe tbody tr th:only-of-type {\n",
       "        vertical-align: middle;\n",
       "    }\n",
       "\n",
       "    .dataframe tbody tr th {\n",
       "        vertical-align: top;\n",
       "    }\n",
       "\n",
       "    .dataframe thead th {\n",
       "        text-align: right;\n",
       "    }\n",
       "</style>\n",
       "<table border=\"1\" class=\"dataframe\">\n",
       "  <thead>\n",
       "    <tr style=\"text-align: right;\">\n",
       "      <th></th>\n",
       "      <th>count</th>\n",
       "      <th>mean</th>\n",
       "      <th>std</th>\n",
       "      <th>min</th>\n",
       "      <th>25%</th>\n",
       "      <th>50%</th>\n",
       "      <th>75%</th>\n",
       "      <th>max</th>\n",
       "    </tr>\n",
       "    <tr>\n",
       "      <th>STDNT_GENDER</th>\n",
       "      <th></th>\n",
       "      <th></th>\n",
       "      <th></th>\n",
       "      <th></th>\n",
       "      <th></th>\n",
       "      <th></th>\n",
       "      <th></th>\n",
       "      <th></th>\n",
       "    </tr>\n",
       "  </thead>\n",
       "  <tbody>\n",
       "    <tr>\n",
       "      <td>F</td>\n",
       "      <td>2120.0</td>\n",
       "      <td>81.237264</td>\n",
       "      <td>52.071527</td>\n",
       "      <td>0.0</td>\n",
       "      <td>69.0</td>\n",
       "      <td>69.0</td>\n",
       "      <td>138.0</td>\n",
       "      <td>150.0</td>\n",
       "    </tr>\n",
       "    <tr>\n",
       "      <td>M</td>\n",
       "      <td>1255.0</td>\n",
       "      <td>76.185657</td>\n",
       "      <td>49.978015</td>\n",
       "      <td>0.0</td>\n",
       "      <td>69.0</td>\n",
       "      <td>69.0</td>\n",
       "      <td>136.0</td>\n",
       "      <td>150.0</td>\n",
       "    </tr>\n",
       "  </tbody>\n",
       "</table>\n",
       "</div>"
      ],
      "text/plain": [
       "               count       mean        std  min   25%   50%    75%    max\n",
       "STDNT_GENDER                                                             \n",
       "F             2120.0  81.237264  52.071527  0.0  69.0  69.0  138.0  150.0\n",
       "M             1255.0  76.185657  49.978015  0.0  69.0  69.0  136.0  150.0"
      ]
     },
     "execution_count": 40,
     "metadata": {},
     "output_type": "execute_result"
    }
   ],
   "source": [
    "data.groupby('STDNT_GENDER')['DISTANCE_FROM_HOME'].describe()"
   ]
  },
  {
   "cell_type": "code",
   "execution_count": 41,
   "metadata": {},
   "outputs": [],
   "source": [
    "def stud_comb(cols):\n",
    "    DISTANCE_FROM_HOME = cols[0]\n",
    "    STDNT_GENDER =cols[1]\n",
    "    \n",
    "    if pd.isnull(DISTANCE_FROM_HOME):\n",
    "        \n",
    "        if STDNT_GENDER=='F':\n",
    "            return 81.237264\n",
    "        else:\n",
    "            return 76.185657\n",
    "    else:\n",
    "        return DISTANCE_FROM_HOME"
   ]
  },
  {
   "cell_type": "code",
   "execution_count": 42,
   "metadata": {},
   "outputs": [],
   "source": [
    "data['DISTANCE_FROM_HOME'] = data[['DISTANCE_FROM_HOME','STDNT_GENDER']].apply(stud_comb,axis =1)"
   ]
  },
  {
   "cell_type": "code",
   "execution_count": 43,
   "metadata": {},
   "outputs": [],
   "source": [
    "data['FIRST_TERM_PERFORMANCE'] = data['FIRST_TERM_EARNED_HRS']/data['FIRST_TERM_ATTEMPT_HRS']"
   ]
  },
  {
   "cell_type": "code",
   "execution_count": 44,
   "metadata": {},
   "outputs": [],
   "source": [
    "data['SECOND_TERM_PERFORMANCE'] = data['SECOND_TERM_EARNED_HRS']/data['SECOND_TERM_ATTEMPT_HRS']"
   ]
  },
  {
   "cell_type": "code",
   "execution_count": 45,
   "metadata": {},
   "outputs": [
    {
     "data": {
      "text/plain": [
       "count    3191.000000\n",
       "mean        0.872315\n",
       "std         0.200743\n",
       "min         0.000000\n",
       "25%         0.769231\n",
       "50%         1.000000\n",
       "75%         1.000000\n",
       "max         1.055556\n",
       "Name: SECOND_TERM_PERFORMANCE, dtype: float64"
      ]
     },
     "execution_count": 45,
     "metadata": {},
     "output_type": "execute_result"
    }
   ],
   "source": [
    "data['SECOND_TERM_PERFORMANCE'].describe()"
   ]
  },
  {
   "cell_type": "code",
   "execution_count": 46,
   "metadata": {},
   "outputs": [
    {
     "data": {
      "image/png": "[encoded data removed]",
      "text/plain": [
       "<Figure size 432x288 with 1 Axes>"
      ]
     },
     "metadata": {},
     "output_type": "display_data"
    }
   ],
   "source": [
    "sns.set_style('whitegrid')\n",
    "\n",
    "ax = sns.boxplot(x =data['STDNT_GENDER'],y ='SECOND_TERM_PERFORMANCE',data = data,palette ='winter')"
   ]
  },
  {
   "cell_type": "code",
   "execution_count": 47,
   "metadata": {},
   "outputs": [
    {
     "name": "stdout",
     "output_type": "stream",
     "text": [
      "-1.7919656956699828\n"
     ]
    }
   ],
   "source": [
    "print(data['SECOND_TERM_PERFORMANCE'].skew())"
   ]
  },
  {
   "cell_type": "code",
   "execution_count": 48,
   "metadata": {},
   "outputs": [
    {
     "name": "stdout",
     "output_type": "stream",
     "text": [
      "0.5833333333333334\n",
      "1.0\n"
     ]
    }
   ],
   "source": [
    "print(data['SECOND_TERM_PERFORMANCE'].quantile(0.10))\n",
    "\n",
    "print(data['SECOND_TERM_PERFORMANCE'].quantile(0.90))"
   ]
  },
  {
   "cell_type": "code",
   "execution_count": 49,
   "metadata": {},
   "outputs": [
    {
     "data": {
      "text/plain": [
       "0       1.000000\n",
       "1       1.000000\n",
       "2       1.000000\n",
       "3       1.000000\n",
       "4       1.000000\n",
       "          ...   \n",
       "3395    0.812500\n",
       "3396    0.872315\n",
       "3397    0.872315\n",
       "3398    0.872315\n",
       "3399    0.461538\n",
       "Name: SECOND_TERM_PERFORMANCE, Length: 3400, dtype: float64"
      ]
     },
     "execution_count": 49,
     "metadata": {},
     "output_type": "execute_result"
    }
   ],
   "source": [
    "data['SECOND_TERM_PERFORMANCE'].fillna(0.872315)"
   ]
  },
  {
   "cell_type": "code",
   "execution_count": 50,
   "metadata": {},
   "outputs": [],
   "source": [
    "data.drop(['FIRST_TERM_ATTEMPT_HRS','FIRST_TERM_EARNED_HRS','SECOND_TERM_ATTEMPT_HRS','SECOND_TERM_EARNED_HRS'],axis =1,inplace = True)"
   ]
  },
  {
   "cell_type": "code",
   "execution_count": 51,
   "metadata": {},
   "outputs": [
    {
     "data": {
      "image/png": "[encoded data removed]",
      "text/plain": [
       "<Figure size 432x288 with 1 Axes>"
      ]
     },
     "metadata": {},
     "output_type": "display_data"
    }
   ],
   "source": [
    "sns.set_style('whitegrid')\n",
    "\n",
    "ax = sns.boxplot(x =data['STDNT_GENDER'],y ='SECOND_TERM_PERFORMANCE',data = data,palette ='winter')"
   ]
  },
  {
   "cell_type": "code",
   "execution_count": 52,
   "metadata": {},
   "outputs": [
    {
     "data": {
      "text/html": [
       "<div>\n",
       "<style scoped>\n",
       "    .dataframe tbody tr th:only-of-type {\n",
       "        vertical-align: middle;\n",
       "    }\n",
       "\n",
       "    .dataframe tbody tr th {\n",
       "        vertical-align: top;\n",
       "    }\n",
       "\n",
       "    .dataframe thead th {\n",
       "        text-align: right;\n",
       "    }\n",
       "</style>\n",
       "<table border=\"1\" class=\"dataframe\">\n",
       "  <thead>\n",
       "    <tr style=\"text-align: right;\">\n",
       "      <th></th>\n",
       "      <th>count</th>\n",
       "      <th>mean</th>\n",
       "      <th>std</th>\n",
       "      <th>min</th>\n",
       "      <th>25%</th>\n",
       "      <th>50%</th>\n",
       "      <th>75%</th>\n",
       "      <th>max</th>\n",
       "    </tr>\n",
       "    <tr>\n",
       "      <th>STDNT_GENDER</th>\n",
       "      <th></th>\n",
       "      <th></th>\n",
       "      <th></th>\n",
       "      <th></th>\n",
       "      <th></th>\n",
       "      <th></th>\n",
       "      <th></th>\n",
       "      <th></th>\n",
       "    </tr>\n",
       "  </thead>\n",
       "  <tbody>\n",
       "    <tr>\n",
       "      <td>F</td>\n",
       "      <td>1832.0</td>\n",
       "      <td>985.185590</td>\n",
       "      <td>150.715274</td>\n",
       "      <td>530.0</td>\n",
       "      <td>910.0</td>\n",
       "      <td>990.0</td>\n",
       "      <td>1070.0</td>\n",
       "      <td>1510.0</td>\n",
       "    </tr>\n",
       "    <tr>\n",
       "      <td>M</td>\n",
       "      <td>1050.0</td>\n",
       "      <td>1019.695238</td>\n",
       "      <td>163.281128</td>\n",
       "      <td>530.0</td>\n",
       "      <td>910.0</td>\n",
       "      <td>1030.0</td>\n",
       "      <td>1150.0</td>\n",
       "      <td>1460.0</td>\n",
       "    </tr>\n",
       "  </tbody>\n",
       "</table>\n",
       "</div>"
      ],
      "text/plain": [
       "               count         mean         std    min    25%     50%     75%  \\\n",
       "STDNT_GENDER                                                                  \n",
       "F             1832.0   985.185590  150.715274  530.0  910.0   990.0  1070.0   \n",
       "M             1050.0  1019.695238  163.281128  530.0  910.0  1030.0  1150.0   \n",
       "\n",
       "                 max  \n",
       "STDNT_GENDER          \n",
       "F             1510.0  \n",
       "M             1460.0  "
      ]
     },
     "execution_count": 52,
     "metadata": {},
     "output_type": "execute_result"
    }
   ],
   "source": [
    "data.groupby('STDNT_GENDER')['STDNT_TEST_ENTRANCE_COMB'].describe()"
   ]
  },
  {
   "cell_type": "code",
   "execution_count": 53,
   "metadata": {},
   "outputs": [
    {
     "data": {
      "image/png": "[encoded data removed]",
      "text/plain": [
       "<Figure size 432x288 with 1 Axes>"
      ]
     },
     "metadata": {},
     "output_type": "display_data"
    }
   ],
   "source": [
    "sns.set_style('whitegrid')\n",
    "\n",
    "ax = sns.boxplot(x =data['STDNT_GENDER'],y ='STDNT_TEST_ENTRANCE_COMB',data = data,palette ='winter')"
   ]
  },
  {
   "cell_type": "code",
   "execution_count": 54,
   "metadata": {},
   "outputs": [
    {
     "name": "stdout",
     "output_type": "stream",
     "text": [
      "-0.36469197420163796\n"
     ]
    }
   ],
   "source": [
    "print(data['STDNT_TEST_ENTRANCE_COMB'].skew())"
   ]
  },
  {
   "cell_type": "code",
   "execution_count": 55,
   "metadata": {},
   "outputs": [
    {
     "data": {
      "text/plain": [
       "count    2882.000000\n",
       "mean      997.758501\n",
       "std       156.268221\n",
       "min       530.000000\n",
       "25%       910.000000\n",
       "50%       990.000000\n",
       "75%      1110.000000\n",
       "max      1510.000000\n",
       "Name: STDNT_TEST_ENTRANCE_COMB, dtype: float64"
      ]
     },
     "execution_count": 55,
     "metadata": {},
     "output_type": "execute_result"
    }
   ],
   "source": [
    "data['STDNT_TEST_ENTRANCE_COMB'].describe()"
   ]
  },
  {
   "cell_type": "code",
   "execution_count": 56,
   "metadata": {},
   "outputs": [
    {
     "name": "stdout",
     "output_type": "stream",
     "text": [
      "830.0\n",
      "1190.0\n"
     ]
    }
   ],
   "source": [
    "print(data['STDNT_TEST_ENTRANCE_COMB'].quantile(0.10))\n",
    "\n",
    "print(data['STDNT_TEST_ENTRANCE_COMB'].quantile(0.90))"
   ]
  },
  {
   "cell_type": "code",
   "execution_count": 57,
   "metadata": {},
   "outputs": [],
   "source": [
    "def stud_comb(cols):\n",
    "    STDNT_TEST_ENTRANCE_COMB = cols[0]\n",
    "    STDNT_GENDER =cols[1]\n",
    "    \n",
    "    if pd.isnull(STDNT_TEST_ENTRANCE_COMB):\n",
    "        \n",
    "        if STDNT_GENDER=='F':\n",
    "            return 990.0\n",
    "        else:\n",
    "            return 1030.0\n",
    "    else:\n",
    "        return STDNT_TEST_ENTRANCE_COMB"
   ]
  },
  {
   "cell_type": "code",
   "execution_count": 58,
   "metadata": {},
   "outputs": [],
   "source": [
    "data['STDNT_TEST_ENTRANCE_COMB'] = data[['STDNT_TEST_ENTRANCE_COMB','STDNT_GENDER']].apply(stud_comb,axis =1)"
   ]
  },
  {
   "cell_type": "code",
   "execution_count": 59,
   "metadata": {},
   "outputs": [
    {
     "data": {
      "image/png": "[encoded data removed]",
      "text/plain": [
       "<Figure size 432x288 with 1 Axes>"
      ]
     },
     "metadata": {},
     "output_type": "display_data"
    }
   ],
   "source": [
    "sns.set_style('whitegrid')\n",
    "\n",
    "ax = sns.boxplot(x =data['STDNT_GENDER'],y ='HIGH_SCHL_GPA',data = data,palette ='winter')"
   ]
  },
  {
   "cell_type": "code",
   "execution_count": 60,
   "metadata": {},
   "outputs": [
    {
     "data": {
      "text/html": [
       "<div>\n",
       "<style scoped>\n",
       "    .dataframe tbody tr th:only-of-type {\n",
       "        vertical-align: middle;\n",
       "    }\n",
       "\n",
       "    .dataframe tbody tr th {\n",
       "        vertical-align: top;\n",
       "    }\n",
       "\n",
       "    .dataframe thead th {\n",
       "        text-align: right;\n",
       "    }\n",
       "</style>\n",
       "<table border=\"1\" class=\"dataframe\">\n",
       "  <thead>\n",
       "    <tr style=\"text-align: right;\">\n",
       "      <th></th>\n",
       "      <th>count</th>\n",
       "      <th>mean</th>\n",
       "      <th>std</th>\n",
       "      <th>min</th>\n",
       "      <th>25%</th>\n",
       "      <th>50%</th>\n",
       "      <th>75%</th>\n",
       "      <th>max</th>\n",
       "    </tr>\n",
       "    <tr>\n",
       "      <th>STDNT_GENDER</th>\n",
       "      <th></th>\n",
       "      <th></th>\n",
       "      <th></th>\n",
       "      <th></th>\n",
       "      <th></th>\n",
       "      <th></th>\n",
       "      <th></th>\n",
       "      <th></th>\n",
       "    </tr>\n",
       "  </thead>\n",
       "  <tbody>\n",
       "    <tr>\n",
       "      <td>F</td>\n",
       "      <td>2111.0</td>\n",
       "      <td>3.249433</td>\n",
       "      <td>0.442327</td>\n",
       "      <td>0.00</td>\n",
       "      <td>2.93</td>\n",
       "      <td>3.25</td>\n",
       "      <td>3.60</td>\n",
       "      <td>4.0</td>\n",
       "    </tr>\n",
       "    <tr>\n",
       "      <td>M</td>\n",
       "      <td>1236.0</td>\n",
       "      <td>3.122985</td>\n",
       "      <td>0.466218</td>\n",
       "      <td>1.87</td>\n",
       "      <td>2.79</td>\n",
       "      <td>3.13</td>\n",
       "      <td>3.47</td>\n",
       "      <td>4.0</td>\n",
       "    </tr>\n",
       "  </tbody>\n",
       "</table>\n",
       "</div>"
      ],
      "text/plain": [
       "               count      mean       std   min   25%   50%   75%  max\n",
       "STDNT_GENDER                                                         \n",
       "F             2111.0  3.249433  0.442327  0.00  2.93  3.25  3.60  4.0\n",
       "M             1236.0  3.122985  0.466218  1.87  2.79  3.13  3.47  4.0"
      ]
     },
     "execution_count": 60,
     "metadata": {},
     "output_type": "execute_result"
    }
   ],
   "source": [
    "data.groupby('STDNT_GENDER')['HIGH_SCHL_GPA'].describe()"
   ]
  },
  {
   "cell_type": "code",
   "execution_count": 61,
   "metadata": {},
   "outputs": [],
   "source": [
    "def gpa(cols):\n",
    "    HIGH_SCHL_GPA = cols[0]\n",
    "    STDNT_GENDER =cols[1]\n",
    "    \n",
    "    if pd.isnull(HIGH_SCHL_GPA):\n",
    "        \n",
    "        if STDNT_GENDER=='F':\n",
    "            return 3.25\n",
    "        else:\n",
    "            return 3.13\n",
    "    else:\n",
    "        return HIGH_SCHL_GPA"
   ]
  },
  {
   "cell_type": "code",
   "execution_count": 62,
   "metadata": {},
   "outputs": [],
   "source": [
    "data['HIGH_SCHL_GPA'] = data[['HIGH_SCHL_GPA','STDNT_GENDER']].apply(gpa,axis =1)"
   ]
  },
  {
   "cell_type": "code",
   "execution_count": 63,
   "metadata": {},
   "outputs": [
    {
     "data": {
      "text/plain": [
       "N    3373\n",
       "Y      27\n",
       "Name: INTERNATIONAL_STS, dtype: int64"
      ]
     },
     "execution_count": 63,
     "metadata": {},
     "output_type": "execute_result"
    }
   ],
   "source": [
    "data['INTERNATIONAL_STS'].value_counts()"
   ]
  },
  {
   "cell_type": "code",
   "execution_count": 64,
   "metadata": {},
   "outputs": [],
   "source": [
    "dummya = pd.get_dummies(data['INTERNATIONAL_STS'])\n",
    "\n",
    "data = pd.concat([data,dummya],axis = 1)"
   ]
  },
  {
   "cell_type": "code",
   "execution_count": 65,
   "metadata": {},
   "outputs": [],
   "source": [
    "# ONE HOT ENCODING\n",
    "\n",
    "top_10 = [x for x in data.STDNT_MAJOR.value_counts().sort_values(ascending =False).head(10).index]"
   ]
  },
  {
   "cell_type": "code",
   "execution_count": 66,
   "metadata": {},
   "outputs": [
    {
     "name": "stdout",
     "output_type": "stream",
     "text": [
      "['Undeclared', 'Biology', 'Early Childhood Education', 'Pre-Nursing', 'Nursing', 'Psychology', 'Pre-Business', 'Theatre Arts', 'Music Performance', 'Criminal Justice']\n"
     ]
    }
   ],
   "source": [
    "print(top_10)"
   ]
  },
  {
   "cell_type": "code",
   "execution_count": 67,
   "metadata": {},
   "outputs": [
    {
     "data": {
      "text/html": [
       "<div>\n",
       "<style scoped>\n",
       "    .dataframe tbody tr th:only-of-type {\n",
       "        vertical-align: middle;\n",
       "    }\n",
       "\n",
       "    .dataframe tbody tr th {\n",
       "        vertical-align: top;\n",
       "    }\n",
       "\n",
       "    .dataframe thead th {\n",
       "        text-align: right;\n",
       "    }\n",
       "</style>\n",
       "<table border=\"1\" class=\"dataframe\">\n",
       "  <thead>\n",
       "    <tr style=\"text-align: right;\">\n",
       "      <th></th>\n",
       "      <th>STDNT_MAJOR</th>\n",
       "      <th>Undeclared</th>\n",
       "      <th>Biology</th>\n",
       "      <th>Early Childhood Education</th>\n",
       "      <th>Pre-Nursing</th>\n",
       "      <th>Nursing</th>\n",
       "      <th>Psychology</th>\n",
       "      <th>Pre-Business</th>\n",
       "      <th>Theatre Arts</th>\n",
       "      <th>Music Performance</th>\n",
       "      <th>Criminal Justice</th>\n",
       "    </tr>\n",
       "  </thead>\n",
       "  <tbody>\n",
       "    <tr>\n",
       "      <td>0</td>\n",
       "      <td>Undeclared</td>\n",
       "      <td>1</td>\n",
       "      <td>0</td>\n",
       "      <td>0</td>\n",
       "      <td>0</td>\n",
       "      <td>0</td>\n",
       "      <td>0</td>\n",
       "      <td>0</td>\n",
       "      <td>0</td>\n",
       "      <td>0</td>\n",
       "      <td>0</td>\n",
       "    </tr>\n",
       "    <tr>\n",
       "      <td>1</td>\n",
       "      <td>Undeclared</td>\n",
       "      <td>1</td>\n",
       "      <td>0</td>\n",
       "      <td>0</td>\n",
       "      <td>0</td>\n",
       "      <td>0</td>\n",
       "      <td>0</td>\n",
       "      <td>0</td>\n",
       "      <td>0</td>\n",
       "      <td>0</td>\n",
       "      <td>0</td>\n",
       "    </tr>\n",
       "    <tr>\n",
       "      <td>2</td>\n",
       "      <td>Mathematics</td>\n",
       "      <td>0</td>\n",
       "      <td>0</td>\n",
       "      <td>0</td>\n",
       "      <td>0</td>\n",
       "      <td>0</td>\n",
       "      <td>0</td>\n",
       "      <td>0</td>\n",
       "      <td>0</td>\n",
       "      <td>0</td>\n",
       "      <td>0</td>\n",
       "    </tr>\n",
       "    <tr>\n",
       "      <td>3</td>\n",
       "      <td>Undeclared</td>\n",
       "      <td>1</td>\n",
       "      <td>0</td>\n",
       "      <td>0</td>\n",
       "      <td>0</td>\n",
       "      <td>0</td>\n",
       "      <td>0</td>\n",
       "      <td>0</td>\n",
       "      <td>0</td>\n",
       "      <td>0</td>\n",
       "      <td>0</td>\n",
       "    </tr>\n",
       "    <tr>\n",
       "      <td>4</td>\n",
       "      <td>Art</td>\n",
       "      <td>0</td>\n",
       "      <td>0</td>\n",
       "      <td>0</td>\n",
       "      <td>0</td>\n",
       "      <td>0</td>\n",
       "      <td>0</td>\n",
       "      <td>0</td>\n",
       "      <td>0</td>\n",
       "      <td>0</td>\n",
       "      <td>0</td>\n",
       "    </tr>\n",
       "  </tbody>\n",
       "</table>\n",
       "</div>"
      ],
      "text/plain": [
       "   STDNT_MAJOR  Undeclared  Biology  Early Childhood Education  Pre-Nursing  \\\n",
       "0   Undeclared           1        0                          0            0   \n",
       "1   Undeclared           1        0                          0            0   \n",
       "2  Mathematics           0        0                          0            0   \n",
       "3   Undeclared           1        0                          0            0   \n",
       "4          Art           0        0                          0            0   \n",
       "\n",
       "   Nursing  Psychology  Pre-Business  Theatre Arts  Music Performance  \\\n",
       "0        0           0             0             0                  0   \n",
       "1        0           0             0             0                  0   \n",
       "2        0           0             0             0                  0   \n",
       "3        0           0             0             0                  0   \n",
       "4        0           0             0             0                  0   \n",
       "\n",
       "   Criminal Justice  \n",
       "0                 0  \n",
       "1                 0  \n",
       "2                 0  \n",
       "3                 0  \n",
       "4                 0  "
      ]
     },
     "execution_count": 67,
     "metadata": {},
     "output_type": "execute_result"
    }
   ],
   "source": [
    "for label in top_10:\n",
    "    data[label] = np.where(data['STDNT_MAJOR']==label,1,0)\n",
    "    \n",
    "data[['STDNT_MAJOR']+ top_10].head(5)"
   ]
  },
  {
   "cell_type": "code",
   "execution_count": 68,
   "metadata": {},
   "outputs": [
    {
     "data": {
      "text/plain": [
       "BGD 1    2082\n",
       "BGD 3     947\n",
       "BGD 4     139\n",
       "BGD 2     106\n",
       "BGD 6      94\n",
       "BGD 7      19\n",
       "BGD 5       8\n",
       "BGD 8       5\n",
       "Name: STDNT_BACKGROUND, dtype: int64"
      ]
     },
     "execution_count": 68,
     "metadata": {},
     "output_type": "execute_result"
    }
   ],
   "source": [
    "data.STDNT_BACKGROUND.value_counts().sort_values(ascending = False).head(20)"
   ]
  },
  {
   "cell_type": "code",
   "execution_count": 69,
   "metadata": {},
   "outputs": [],
   "source": [
    "top_5 = [x for x in data.STDNT_BACKGROUND.value_counts().sort_values(ascending =False).head(5).index]"
   ]
  },
  {
   "cell_type": "code",
   "execution_count": 70,
   "metadata": {},
   "outputs": [
    {
     "name": "stdout",
     "output_type": "stream",
     "text": [
      "['BGD 1', 'BGD 3', 'BGD 4', 'BGD 2', 'BGD 6']\n"
     ]
    }
   ],
   "source": [
    "print(top_5)"
   ]
  },
  {
   "cell_type": "code",
   "execution_count": 71,
   "metadata": {},
   "outputs": [
    {
     "data": {
      "text/html": [
       "<div>\n",
       "<style scoped>\n",
       "    .dataframe tbody tr th:only-of-type {\n",
       "        vertical-align: middle;\n",
       "    }\n",
       "\n",
       "    .dataframe tbody tr th {\n",
       "        vertical-align: top;\n",
       "    }\n",
       "\n",
       "    .dataframe thead th {\n",
       "        text-align: right;\n",
       "    }\n",
       "</style>\n",
       "<table border=\"1\" class=\"dataframe\">\n",
       "  <thead>\n",
       "    <tr style=\"text-align: right;\">\n",
       "      <th></th>\n",
       "      <th>STDNT_BACKGROUND</th>\n",
       "      <th>BGD 1</th>\n",
       "      <th>BGD 3</th>\n",
       "      <th>BGD 4</th>\n",
       "      <th>BGD 2</th>\n",
       "      <th>BGD 6</th>\n",
       "    </tr>\n",
       "  </thead>\n",
       "  <tbody>\n",
       "    <tr>\n",
       "      <td>0</td>\n",
       "      <td>BGD 1</td>\n",
       "      <td>1</td>\n",
       "      <td>0</td>\n",
       "      <td>0</td>\n",
       "      <td>0</td>\n",
       "      <td>0</td>\n",
       "    </tr>\n",
       "    <tr>\n",
       "      <td>1</td>\n",
       "      <td>BGD 1</td>\n",
       "      <td>1</td>\n",
       "      <td>0</td>\n",
       "      <td>0</td>\n",
       "      <td>0</td>\n",
       "      <td>0</td>\n",
       "    </tr>\n",
       "    <tr>\n",
       "      <td>2</td>\n",
       "      <td>BGD 1</td>\n",
       "      <td>1</td>\n",
       "      <td>0</td>\n",
       "      <td>0</td>\n",
       "      <td>0</td>\n",
       "      <td>0</td>\n",
       "    </tr>\n",
       "    <tr>\n",
       "      <td>3</td>\n",
       "      <td>BGD 1</td>\n",
       "      <td>1</td>\n",
       "      <td>0</td>\n",
       "      <td>0</td>\n",
       "      <td>0</td>\n",
       "      <td>0</td>\n",
       "    </tr>\n",
       "    <tr>\n",
       "      <td>4</td>\n",
       "      <td>BGD 1</td>\n",
       "      <td>1</td>\n",
       "      <td>0</td>\n",
       "      <td>0</td>\n",
       "      <td>0</td>\n",
       "      <td>0</td>\n",
       "    </tr>\n",
       "  </tbody>\n",
       "</table>\n",
       "</div>"
      ],
      "text/plain": [
       "  STDNT_BACKGROUND  BGD 1  BGD 3  BGD 4  BGD 2  BGD 6\n",
       "0            BGD 1      1      0      0      0      0\n",
       "1            BGD 1      1      0      0      0      0\n",
       "2            BGD 1      1      0      0      0      0\n",
       "3            BGD 1      1      0      0      0      0\n",
       "4            BGD 1      1      0      0      0      0"
      ]
     },
     "execution_count": 71,
     "metadata": {},
     "output_type": "execute_result"
    }
   ],
   "source": [
    "for label in top_5:\n",
    "    data[label] = np.where(data['STDNT_BACKGROUND']==label,1,0)\n",
    "    \n",
    "data[['STDNT_BACKGROUND']+ top_5].head(5)"
   ]
  },
  {
   "cell_type": "code",
   "execution_count": 72,
   "metadata": {},
   "outputs": [],
   "source": [
    "top_10 = [x for x in data.CORE_COURSE_NAME_1_F.value_counts().sort_values(ascending =False).head(10).index]"
   ]
  },
  {
   "cell_type": "code",
   "execution_count": 73,
   "metadata": {},
   "outputs": [
    {
     "data": {
      "text/plain": [
       "['ENGL',\n",
       " 'HIST',\n",
       " 'CHEM',\n",
       " 'MATH',\n",
       " 'COMM',\n",
       " 'ARTH',\n",
       " 'ECON',\n",
       " 'CPSC',\n",
       " 'POLS',\n",
       " 'BIOL']"
      ]
     },
     "execution_count": 73,
     "metadata": {},
     "output_type": "execute_result"
    }
   ],
   "source": [
    "top_10"
   ]
  },
  {
   "cell_type": "code",
   "execution_count": 74,
   "metadata": {},
   "outputs": [
    {
     "data": {
      "text/html": [
       "<div>\n",
       "<style scoped>\n",
       "    .dataframe tbody tr th:only-of-type {\n",
       "        vertical-align: middle;\n",
       "    }\n",
       "\n",
       "    .dataframe tbody tr th {\n",
       "        vertical-align: top;\n",
       "    }\n",
       "\n",
       "    .dataframe thead th {\n",
       "        text-align: right;\n",
       "    }\n",
       "</style>\n",
       "<table border=\"1\" class=\"dataframe\">\n",
       "  <thead>\n",
       "    <tr style=\"text-align: right;\">\n",
       "      <th></th>\n",
       "      <th>CORE_COURSE_NAME_1_F</th>\n",
       "      <th>ENGL</th>\n",
       "      <th>HIST</th>\n",
       "      <th>CHEM</th>\n",
       "      <th>MATH</th>\n",
       "      <th>COMM</th>\n",
       "      <th>ARTH</th>\n",
       "      <th>ECON</th>\n",
       "      <th>CPSC</th>\n",
       "      <th>POLS</th>\n",
       "      <th>BIOL</th>\n",
       "    </tr>\n",
       "  </thead>\n",
       "  <tbody>\n",
       "    <tr>\n",
       "      <td>0</td>\n",
       "      <td>ANTH</td>\n",
       "      <td>0</td>\n",
       "      <td>0</td>\n",
       "      <td>0</td>\n",
       "      <td>0</td>\n",
       "      <td>0</td>\n",
       "      <td>0</td>\n",
       "      <td>0</td>\n",
       "      <td>0</td>\n",
       "      <td>0</td>\n",
       "      <td>0</td>\n",
       "    </tr>\n",
       "    <tr>\n",
       "      <td>1</td>\n",
       "      <td>ANTH</td>\n",
       "      <td>0</td>\n",
       "      <td>0</td>\n",
       "      <td>0</td>\n",
       "      <td>0</td>\n",
       "      <td>0</td>\n",
       "      <td>0</td>\n",
       "      <td>0</td>\n",
       "      <td>0</td>\n",
       "      <td>0</td>\n",
       "      <td>0</td>\n",
       "    </tr>\n",
       "    <tr>\n",
       "      <td>2</td>\n",
       "      <td>ANTH</td>\n",
       "      <td>0</td>\n",
       "      <td>0</td>\n",
       "      <td>0</td>\n",
       "      <td>0</td>\n",
       "      <td>0</td>\n",
       "      <td>0</td>\n",
       "      <td>0</td>\n",
       "      <td>0</td>\n",
       "      <td>0</td>\n",
       "      <td>0</td>\n",
       "    </tr>\n",
       "    <tr>\n",
       "      <td>3</td>\n",
       "      <td>ANTH</td>\n",
       "      <td>0</td>\n",
       "      <td>0</td>\n",
       "      <td>0</td>\n",
       "      <td>0</td>\n",
       "      <td>0</td>\n",
       "      <td>0</td>\n",
       "      <td>0</td>\n",
       "      <td>0</td>\n",
       "      <td>0</td>\n",
       "      <td>0</td>\n",
       "    </tr>\n",
       "    <tr>\n",
       "      <td>4</td>\n",
       "      <td>ANTH</td>\n",
       "      <td>0</td>\n",
       "      <td>0</td>\n",
       "      <td>0</td>\n",
       "      <td>0</td>\n",
       "      <td>0</td>\n",
       "      <td>0</td>\n",
       "      <td>0</td>\n",
       "      <td>0</td>\n",
       "      <td>0</td>\n",
       "      <td>0</td>\n",
       "    </tr>\n",
       "  </tbody>\n",
       "</table>\n",
       "</div>"
      ],
      "text/plain": [
       "  CORE_COURSE_NAME_1_F  ENGL  HIST  CHEM  MATH  COMM  ARTH  ECON  CPSC  POLS  \\\n",
       "0                 ANTH     0     0     0     0     0     0     0     0     0   \n",
       "1                 ANTH     0     0     0     0     0     0     0     0     0   \n",
       "2                 ANTH     0     0     0     0     0     0     0     0     0   \n",
       "3                 ANTH     0     0     0     0     0     0     0     0     0   \n",
       "4                 ANTH     0     0     0     0     0     0     0     0     0   \n",
       "\n",
       "   BIOL  \n",
       "0     0  \n",
       "1     0  \n",
       "2     0  \n",
       "3     0  \n",
       "4     0  "
      ]
     },
     "execution_count": 74,
     "metadata": {},
     "output_type": "execute_result"
    }
   ],
   "source": [
    "for label in top_10:\n",
    "    data[label] = np.where(data['CORE_COURSE_NAME_1_F']==label,1,0)\n",
    "    \n",
    "data[['CORE_COURSE_NAME_1_F']+ top_10].head(5)"
   ]
  },
  {
   "cell_type": "code",
   "execution_count": 75,
   "metadata": {},
   "outputs": [],
   "source": [
    "data = data.rename(columns = {'ENGL':'2015_ENGL',\n",
    "                              'HIST':'2015_HIST',\n",
    "                              'CHEM':'2015_CHEM',\n",
    "                              'MATH':'2015_MATH',\n",
    "                              'COMM':'2015_COMM',\n",
    "                              'ARTH':'2015_ARTH',\n",
    "                              'ECON':'2015_ECON',\n",
    "                              'CPSC':'2015_CPSC',\n",
    "                              'POLS':'2015_POLS',\n",
    "                              'BIOL':'2015_BIOL'})"
   ]
  },
  {
   "cell_type": "code",
   "execution_count": 76,
   "metadata": {},
   "outputs": [
    {
     "data": {
      "text/plain": [
       "0    ENGL\n",
       "dtype: object"
      ]
     },
     "execution_count": 76,
     "metadata": {},
     "output_type": "execute_result"
    }
   ],
   "source": [
    "data['CORE_COURSE_NAME_2_F'].mode()"
   ]
  },
  {
   "cell_type": "code",
   "execution_count": 77,
   "metadata": {},
   "outputs": [],
   "source": [
    "data['CORE_COURSE_NAME_2_F'] = data['CORE_COURSE_NAME_2_F'].fillna('ENGL')"
   ]
  },
  {
   "cell_type": "code",
   "execution_count": 78,
   "metadata": {},
   "outputs": [
    {
     "data": {
      "text/plain": [
       "ENGL    897\n",
       "HIST    500\n",
       "CHEM    352\n",
       "MATH    320\n",
       "COMM    233\n",
       "POLS    138\n",
       "ARTH    124\n",
       "ECON    106\n",
       "PSYC    103\n",
       "MUSC     99\n",
       "Name: CORE_COURSE_NAME_2_F, dtype: int64"
      ]
     },
     "execution_count": 78,
     "metadata": {},
     "output_type": "execute_result"
    }
   ],
   "source": [
    "data['CORE_COURSE_NAME_2_F'].value_counts().sort_values(ascending = False).head(10)"
   ]
  },
  {
   "cell_type": "code",
   "execution_count": 79,
   "metadata": {},
   "outputs": [
    {
     "data": {
      "text/plain": [
       "['ENGL',\n",
       " 'HIST',\n",
       " 'CHEM',\n",
       " 'MATH',\n",
       " 'COMM',\n",
       " 'POLS',\n",
       " 'ARTH',\n",
       " 'ECON',\n",
       " 'PSYC',\n",
       " 'MUSC']"
      ]
     },
     "execution_count": 79,
     "metadata": {},
     "output_type": "execute_result"
    }
   ],
   "source": [
    "top_10 = [x for x in data.CORE_COURSE_NAME_2_F.value_counts().sort_values(ascending =False).head(10).index]\n",
    "\n",
    "top_10"
   ]
  },
  {
   "cell_type": "code",
   "execution_count": 80,
   "metadata": {},
   "outputs": [
    {
     "data": {
      "text/html": [
       "<div>\n",
       "<style scoped>\n",
       "    .dataframe tbody tr th:only-of-type {\n",
       "        vertical-align: middle;\n",
       "    }\n",
       "\n",
       "    .dataframe tbody tr th {\n",
       "        vertical-align: top;\n",
       "    }\n",
       "\n",
       "    .dataframe thead th {\n",
       "        text-align: right;\n",
       "    }\n",
       "</style>\n",
       "<table border=\"1\" class=\"dataframe\">\n",
       "  <thead>\n",
       "    <tr style=\"text-align: right;\">\n",
       "      <th></th>\n",
       "      <th>CORE_COURSE_NAME_2_F</th>\n",
       "      <th>ENGL</th>\n",
       "      <th>HIST</th>\n",
       "      <th>CHEM</th>\n",
       "      <th>MATH</th>\n",
       "      <th>COMM</th>\n",
       "      <th>POLS</th>\n",
       "      <th>ARTH</th>\n",
       "      <th>ECON</th>\n",
       "      <th>PSYC</th>\n",
       "      <th>MUSC</th>\n",
       "    </tr>\n",
       "  </thead>\n",
       "  <tbody>\n",
       "    <tr>\n",
       "      <td>0</td>\n",
       "      <td>ARTH</td>\n",
       "      <td>0</td>\n",
       "      <td>0</td>\n",
       "      <td>0</td>\n",
       "      <td>0</td>\n",
       "      <td>0</td>\n",
       "      <td>0</td>\n",
       "      <td>1</td>\n",
       "      <td>0</td>\n",
       "      <td>0</td>\n",
       "      <td>0</td>\n",
       "    </tr>\n",
       "    <tr>\n",
       "      <td>1</td>\n",
       "      <td>GERM</td>\n",
       "      <td>0</td>\n",
       "      <td>0</td>\n",
       "      <td>0</td>\n",
       "      <td>0</td>\n",
       "      <td>0</td>\n",
       "      <td>0</td>\n",
       "      <td>0</td>\n",
       "      <td>0</td>\n",
       "      <td>0</td>\n",
       "      <td>0</td>\n",
       "    </tr>\n",
       "    <tr>\n",
       "      <td>2</td>\n",
       "      <td>ENGL</td>\n",
       "      <td>1</td>\n",
       "      <td>0</td>\n",
       "      <td>0</td>\n",
       "      <td>0</td>\n",
       "      <td>0</td>\n",
       "      <td>0</td>\n",
       "      <td>0</td>\n",
       "      <td>0</td>\n",
       "      <td>0</td>\n",
       "      <td>0</td>\n",
       "    </tr>\n",
       "    <tr>\n",
       "      <td>3</td>\n",
       "      <td>COMM</td>\n",
       "      <td>0</td>\n",
       "      <td>0</td>\n",
       "      <td>0</td>\n",
       "      <td>0</td>\n",
       "      <td>1</td>\n",
       "      <td>0</td>\n",
       "      <td>0</td>\n",
       "      <td>0</td>\n",
       "      <td>0</td>\n",
       "      <td>0</td>\n",
       "    </tr>\n",
       "    <tr>\n",
       "      <td>4</td>\n",
       "      <td>ARTH</td>\n",
       "      <td>0</td>\n",
       "      <td>0</td>\n",
       "      <td>0</td>\n",
       "      <td>0</td>\n",
       "      <td>0</td>\n",
       "      <td>0</td>\n",
       "      <td>1</td>\n",
       "      <td>0</td>\n",
       "      <td>0</td>\n",
       "      <td>0</td>\n",
       "    </tr>\n",
       "  </tbody>\n",
       "</table>\n",
       "</div>"
      ],
      "text/plain": [
       "  CORE_COURSE_NAME_2_F  ENGL  HIST  CHEM  MATH  COMM  POLS  ARTH  ECON  PSYC  \\\n",
       "0                 ARTH     0     0     0     0     0     0     1     0     0   \n",
       "1                 GERM     0     0     0     0     0     0     0     0     0   \n",
       "2                 ENGL     1     0     0     0     0     0     0     0     0   \n",
       "3                 COMM     0     0     0     0     1     0     0     0     0   \n",
       "4                 ARTH     0     0     0     0     0     0     1     0     0   \n",
       "\n",
       "   MUSC  \n",
       "0     0  \n",
       "1     0  \n",
       "2     0  \n",
       "3     0  \n",
       "4     0  "
      ]
     },
     "execution_count": 80,
     "metadata": {},
     "output_type": "execute_result"
    }
   ],
   "source": [
    "for label in top_10:\n",
    "    data[label] = np.where(data['CORE_COURSE_NAME_2_F']==label,1,0)\n",
    "    \n",
    "data[['CORE_COURSE_NAME_2_F']+ top_10].head(5)"
   ]
  },
  {
   "cell_type": "code",
   "execution_count": 81,
   "metadata": {},
   "outputs": [],
   "source": [
    "data = data.rename(columns = {'ENGL':'2016_ENGL',\n",
    "                              'HIST':'2016_HIST',\n",
    "                              'CHEM':'2016_CHEM',\n",
    "                              'MATH':'2016_MATH',\n",
    "                              'COMM':'2016_COMM',\n",
    "                              'POLS':'2016_POLS',\n",
    "                              'ARTH':'2016_ARTH',\n",
    "                              'ECON':'2016_ECON',\n",
    "                              'PSYC':'2016_PSYC',\n",
    "                              'MUSC':'2016_MUSC',\n",
    "                              })"
   ]
  },
  {
   "cell_type": "code",
   "execution_count": 82,
   "metadata": {},
   "outputs": [
    {
     "data": {
      "text/plain": [
       "0    ENGL\n",
       "dtype: object"
      ]
     },
     "execution_count": 82,
     "metadata": {},
     "output_type": "execute_result"
    }
   ],
   "source": [
    "data['CORE_COURSE_NAME_3_F'].mode()"
   ]
  },
  {
   "cell_type": "code",
   "execution_count": 83,
   "metadata": {},
   "outputs": [],
   "source": [
    "data['CORE_COURSE_NAME_3_F'] = data['CORE_COURSE_NAME_3_F'].fillna('ENGL')"
   ]
  },
  {
   "cell_type": "code",
   "execution_count": 84,
   "metadata": {},
   "outputs": [
    {
     "data": {
      "text/plain": [
       "['ENGL',\n",
       " 'HIST',\n",
       " 'MATH',\n",
       " 'CHEM',\n",
       " 'ITDS',\n",
       " 'COMM',\n",
       " 'POLS',\n",
       " 'MUSC',\n",
       " 'THEA',\n",
       " 'PSYC']"
      ]
     },
     "execution_count": 84,
     "metadata": {},
     "output_type": "execute_result"
    }
   ],
   "source": [
    "top_10 = [x for x in data.CORE_COURSE_NAME_3_F.value_counts().sort_values(ascending =False).head(10).index]\n",
    "\n",
    "top_10"
   ]
  },
  {
   "cell_type": "code",
   "execution_count": 85,
   "metadata": {},
   "outputs": [
    {
     "data": {
      "text/html": [
       "<div>\n",
       "<style scoped>\n",
       "    .dataframe tbody tr th:only-of-type {\n",
       "        vertical-align: middle;\n",
       "    }\n",
       "\n",
       "    .dataframe tbody tr th {\n",
       "        vertical-align: top;\n",
       "    }\n",
       "\n",
       "    .dataframe thead th {\n",
       "        text-align: right;\n",
       "    }\n",
       "</style>\n",
       "<table border=\"1\" class=\"dataframe\">\n",
       "  <thead>\n",
       "    <tr style=\"text-align: right;\">\n",
       "      <th></th>\n",
       "      <th>CORE_COURSE_NAME_3_F</th>\n",
       "      <th>ENGL</th>\n",
       "      <th>HIST</th>\n",
       "      <th>MATH</th>\n",
       "      <th>CHEM</th>\n",
       "      <th>ITDS</th>\n",
       "      <th>COMM</th>\n",
       "      <th>POLS</th>\n",
       "      <th>MUSC</th>\n",
       "      <th>THEA</th>\n",
       "      <th>PSYC</th>\n",
       "    </tr>\n",
       "  </thead>\n",
       "  <tbody>\n",
       "    <tr>\n",
       "      <td>0</td>\n",
       "      <td>ENGL</td>\n",
       "      <td>1</td>\n",
       "      <td>0</td>\n",
       "      <td>0</td>\n",
       "      <td>0</td>\n",
       "      <td>0</td>\n",
       "      <td>0</td>\n",
       "      <td>0</td>\n",
       "      <td>0</td>\n",
       "      <td>0</td>\n",
       "      <td>0</td>\n",
       "    </tr>\n",
       "    <tr>\n",
       "      <td>1</td>\n",
       "      <td>ITDS</td>\n",
       "      <td>0</td>\n",
       "      <td>0</td>\n",
       "      <td>0</td>\n",
       "      <td>0</td>\n",
       "      <td>1</td>\n",
       "      <td>0</td>\n",
       "      <td>0</td>\n",
       "      <td>0</td>\n",
       "      <td>0</td>\n",
       "      <td>0</td>\n",
       "    </tr>\n",
       "    <tr>\n",
       "      <td>2</td>\n",
       "      <td>HIST</td>\n",
       "      <td>0</td>\n",
       "      <td>1</td>\n",
       "      <td>0</td>\n",
       "      <td>0</td>\n",
       "      <td>0</td>\n",
       "      <td>0</td>\n",
       "      <td>0</td>\n",
       "      <td>0</td>\n",
       "      <td>0</td>\n",
       "      <td>0</td>\n",
       "    </tr>\n",
       "    <tr>\n",
       "      <td>3</td>\n",
       "      <td>ENGL</td>\n",
       "      <td>1</td>\n",
       "      <td>0</td>\n",
       "      <td>0</td>\n",
       "      <td>0</td>\n",
       "      <td>0</td>\n",
       "      <td>0</td>\n",
       "      <td>0</td>\n",
       "      <td>0</td>\n",
       "      <td>0</td>\n",
       "      <td>0</td>\n",
       "    </tr>\n",
       "    <tr>\n",
       "      <td>4</td>\n",
       "      <td>CPSC</td>\n",
       "      <td>0</td>\n",
       "      <td>0</td>\n",
       "      <td>0</td>\n",
       "      <td>0</td>\n",
       "      <td>0</td>\n",
       "      <td>0</td>\n",
       "      <td>0</td>\n",
       "      <td>0</td>\n",
       "      <td>0</td>\n",
       "      <td>0</td>\n",
       "    </tr>\n",
       "  </tbody>\n",
       "</table>\n",
       "</div>"
      ],
      "text/plain": [
       "  CORE_COURSE_NAME_3_F  ENGL  HIST  MATH  CHEM  ITDS  COMM  POLS  MUSC  THEA  \\\n",
       "0                 ENGL     1     0     0     0     0     0     0     0     0   \n",
       "1                 ITDS     0     0     0     0     1     0     0     0     0   \n",
       "2                 HIST     0     1     0     0     0     0     0     0     0   \n",
       "3                 ENGL     1     0     0     0     0     0     0     0     0   \n",
       "4                 CPSC     0     0     0     0     0     0     0     0     0   \n",
       "\n",
       "   PSYC  \n",
       "0     0  \n",
       "1     0  \n",
       "2     0  \n",
       "3     0  \n",
       "4     0  "
      ]
     },
     "execution_count": 85,
     "metadata": {},
     "output_type": "execute_result"
    }
   ],
   "source": [
    "for label in top_10:\n",
    "    data[label] = np.where(data['CORE_COURSE_NAME_3_F']==label,1,0)\n",
    "    \n",
    "data[['CORE_COURSE_NAME_3_F']+ top_10].head(5)"
   ]
  },
  {
   "cell_type": "code",
   "execution_count": 86,
   "metadata": {},
   "outputs": [],
   "source": [
    "data = data.rename(columns = {'ENGL':'2017_ENGL',\n",
    "                              'HIST':'2017_HIST',\n",
    "                              'CHEM':'2017_CHEM',\n",
    "                              'MATH':'2017_MATH',\n",
    "                              'COMM':'2017_COMM',\n",
    "                              'POLS':'2017_POLS',\n",
    "                              'ITDS':'2017_ITDS',\n",
    "                              'THEA':'2017_THEA',\n",
    "                              'PSYC':'2017_PSYC',\n",
    "                              'MUSC':'2017_MUSC',\n",
    "                              })"
   ]
  },
  {
   "cell_type": "code",
   "execution_count": 87,
   "metadata": {},
   "outputs": [
    {
     "data": {
      "text/plain": [
       "['C', 'B', 'D', 'F', 'A', 'NOT REP', 'INCOMPL']"
      ]
     },
     "execution_count": 87,
     "metadata": {},
     "output_type": "execute_result"
    }
   ],
   "source": [
    "top_5 = [x for x in data.CORE_COURSE_GRADE_1_F.value_counts().sort_values(ascending =False).head(10).index]\n",
    "\n",
    "top_5"
   ]
  },
  {
   "cell_type": "code",
   "execution_count": 88,
   "metadata": {},
   "outputs": [
    {
     "data": {
      "text/html": [
       "<div>\n",
       "<style scoped>\n",
       "    .dataframe tbody tr th:only-of-type {\n",
       "        vertical-align: middle;\n",
       "    }\n",
       "\n",
       "    .dataframe tbody tr th {\n",
       "        vertical-align: top;\n",
       "    }\n",
       "\n",
       "    .dataframe thead th {\n",
       "        text-align: right;\n",
       "    }\n",
       "</style>\n",
       "<table border=\"1\" class=\"dataframe\">\n",
       "  <thead>\n",
       "    <tr style=\"text-align: right;\">\n",
       "      <th></th>\n",
       "      <th>CORE_COURSE_GRADE_1_F</th>\n",
       "      <th>C</th>\n",
       "      <th>B</th>\n",
       "      <th>D</th>\n",
       "      <th>F</th>\n",
       "      <th>A</th>\n",
       "      <th>NOT REP</th>\n",
       "      <th>INCOMPL</th>\n",
       "    </tr>\n",
       "  </thead>\n",
       "  <tbody>\n",
       "    <tr>\n",
       "      <td>0</td>\n",
       "      <td>A</td>\n",
       "      <td>0</td>\n",
       "      <td>0</td>\n",
       "      <td>0</td>\n",
       "      <td>0</td>\n",
       "      <td>1</td>\n",
       "      <td>0</td>\n",
       "      <td>0</td>\n",
       "    </tr>\n",
       "    <tr>\n",
       "      <td>1</td>\n",
       "      <td>A</td>\n",
       "      <td>0</td>\n",
       "      <td>0</td>\n",
       "      <td>0</td>\n",
       "      <td>0</td>\n",
       "      <td>1</td>\n",
       "      <td>0</td>\n",
       "      <td>0</td>\n",
       "    </tr>\n",
       "    <tr>\n",
       "      <td>2</td>\n",
       "      <td>A</td>\n",
       "      <td>0</td>\n",
       "      <td>0</td>\n",
       "      <td>0</td>\n",
       "      <td>0</td>\n",
       "      <td>1</td>\n",
       "      <td>0</td>\n",
       "      <td>0</td>\n",
       "    </tr>\n",
       "    <tr>\n",
       "      <td>3</td>\n",
       "      <td>A</td>\n",
       "      <td>0</td>\n",
       "      <td>0</td>\n",
       "      <td>0</td>\n",
       "      <td>0</td>\n",
       "      <td>1</td>\n",
       "      <td>0</td>\n",
       "      <td>0</td>\n",
       "    </tr>\n",
       "    <tr>\n",
       "      <td>4</td>\n",
       "      <td>A</td>\n",
       "      <td>0</td>\n",
       "      <td>0</td>\n",
       "      <td>0</td>\n",
       "      <td>0</td>\n",
       "      <td>1</td>\n",
       "      <td>0</td>\n",
       "      <td>0</td>\n",
       "    </tr>\n",
       "  </tbody>\n",
       "</table>\n",
       "</div>"
      ],
      "text/plain": [
       "  CORE_COURSE_GRADE_1_F  C  B  D  F  A  NOT REP  INCOMPL\n",
       "0                     A  0  0  0  0  1        0        0\n",
       "1                     A  0  0  0  0  1        0        0\n",
       "2                     A  0  0  0  0  1        0        0\n",
       "3                     A  0  0  0  0  1        0        0\n",
       "4                     A  0  0  0  0  1        0        0"
      ]
     },
     "execution_count": 88,
     "metadata": {},
     "output_type": "execute_result"
    }
   ],
   "source": [
    "for label in top_5:\n",
    "    data[label] = np.where(data['CORE_COURSE_GRADE_1_F']==label,1,0)\n",
    "    \n",
    "data[['CORE_COURSE_GRADE_1_F']+ top_5].head(5)"
   ]
  },
  {
   "cell_type": "code",
   "execution_count": 89,
   "metadata": {},
   "outputs": [],
   "source": [
    "data = data.rename(columns = {'A':'2015_ENGL_A',\n",
    "                              'B':'2015_HIST_B',\n",
    "                             'C':'2015_MATH_C',\n",
    "                             'D':'2015_CHEM_D',\n",
    "                             'F':'2015_ITDS_F'})"
   ]
  },
  {
   "cell_type": "code",
   "execution_count": 90,
   "metadata": {},
   "outputs": [
    {
     "data": {
      "text/plain": [
       "['B', 'C', 'A', 'D', 'F', 'INCOMPL', 'NOT REP']"
      ]
     },
     "execution_count": 90,
     "metadata": {},
     "output_type": "execute_result"
    }
   ],
   "source": [
    "top_5 = [x for x in data.CORE_COURSE_GRADE_2_F.value_counts().sort_values(ascending =False).head(10).index]\n",
    "\n",
    "top_5"
   ]
  },
  {
   "cell_type": "code",
   "execution_count": 91,
   "metadata": {},
   "outputs": [
    {
     "data": {
      "text/html": [
       "<div>\n",
       "<style scoped>\n",
       "    .dataframe tbody tr th:only-of-type {\n",
       "        vertical-align: middle;\n",
       "    }\n",
       "\n",
       "    .dataframe tbody tr th {\n",
       "        vertical-align: top;\n",
       "    }\n",
       "\n",
       "    .dataframe thead th {\n",
       "        text-align: right;\n",
       "    }\n",
       "</style>\n",
       "<table border=\"1\" class=\"dataframe\">\n",
       "  <thead>\n",
       "    <tr style=\"text-align: right;\">\n",
       "      <th></th>\n",
       "      <th>CORE_COURSE_GRADE_2_F</th>\n",
       "      <th>B</th>\n",
       "      <th>C</th>\n",
       "      <th>A</th>\n",
       "      <th>D</th>\n",
       "      <th>F</th>\n",
       "      <th>INCOMPL</th>\n",
       "      <th>NOT REP</th>\n",
       "    </tr>\n",
       "  </thead>\n",
       "  <tbody>\n",
       "    <tr>\n",
       "      <td>0</td>\n",
       "      <td>A</td>\n",
       "      <td>0</td>\n",
       "      <td>0</td>\n",
       "      <td>1</td>\n",
       "      <td>0</td>\n",
       "      <td>0</td>\n",
       "      <td>0</td>\n",
       "      <td>0</td>\n",
       "    </tr>\n",
       "    <tr>\n",
       "      <td>1</td>\n",
       "      <td>A</td>\n",
       "      <td>0</td>\n",
       "      <td>0</td>\n",
       "      <td>1</td>\n",
       "      <td>0</td>\n",
       "      <td>0</td>\n",
       "      <td>0</td>\n",
       "      <td>0</td>\n",
       "    </tr>\n",
       "    <tr>\n",
       "      <td>2</td>\n",
       "      <td>A</td>\n",
       "      <td>0</td>\n",
       "      <td>0</td>\n",
       "      <td>1</td>\n",
       "      <td>0</td>\n",
       "      <td>0</td>\n",
       "      <td>0</td>\n",
       "      <td>0</td>\n",
       "    </tr>\n",
       "    <tr>\n",
       "      <td>3</td>\n",
       "      <td>A</td>\n",
       "      <td>0</td>\n",
       "      <td>0</td>\n",
       "      <td>1</td>\n",
       "      <td>0</td>\n",
       "      <td>0</td>\n",
       "      <td>0</td>\n",
       "      <td>0</td>\n",
       "    </tr>\n",
       "    <tr>\n",
       "      <td>4</td>\n",
       "      <td>A</td>\n",
       "      <td>0</td>\n",
       "      <td>0</td>\n",
       "      <td>1</td>\n",
       "      <td>0</td>\n",
       "      <td>0</td>\n",
       "      <td>0</td>\n",
       "      <td>0</td>\n",
       "    </tr>\n",
       "  </tbody>\n",
       "</table>\n",
       "</div>"
      ],
      "text/plain": [
       "  CORE_COURSE_GRADE_2_F  B  C  A  D  F  INCOMPL  NOT REP\n",
       "0                     A  0  0  1  0  0        0        0\n",
       "1                     A  0  0  1  0  0        0        0\n",
       "2                     A  0  0  1  0  0        0        0\n",
       "3                     A  0  0  1  0  0        0        0\n",
       "4                     A  0  0  1  0  0        0        0"
      ]
     },
     "execution_count": 91,
     "metadata": {},
     "output_type": "execute_result"
    }
   ],
   "source": [
    "for label in top_5:\n",
    "    data[label] = np.where(data['CORE_COURSE_GRADE_2_F']==label,1,0)\n",
    "    \n",
    "data[['CORE_COURSE_GRADE_2_F']+ top_5].head(5)"
   ]
  },
  {
   "cell_type": "code",
   "execution_count": 92,
   "metadata": {},
   "outputs": [],
   "source": [
    "data = data.rename(columns = {'A':'2016_ENGL_A',\n",
    "                              'B':'2016_HIST_B',\n",
    "                             'C':'2016_MATH_C',\n",
    "                             'D':'2016_CHEM_D',\n",
    "                             'F':'2016_ITDS_F'})"
   ]
  },
  {
   "cell_type": "code",
   "execution_count": 93,
   "metadata": {},
   "outputs": [
    {
     "data": {
      "text/plain": [
       "565"
      ]
     },
     "execution_count": 93,
     "metadata": {},
     "output_type": "execute_result"
    }
   ],
   "source": [
    "data['CORE_COURSE_GRADE_3_F'].isnull().sum()"
   ]
  },
  {
   "cell_type": "code",
   "execution_count": 94,
   "metadata": {},
   "outputs": [
    {
     "data": {
      "text/plain": [
       "count     2835\n",
       "unique       6\n",
       "top          B\n",
       "freq      1155\n",
       "Name: CORE_COURSE_GRADE_3_F, dtype: object"
      ]
     },
     "execution_count": 94,
     "metadata": {},
     "output_type": "execute_result"
    }
   ],
   "source": [
    "data['CORE_COURSE_GRADE_3_F'].describe()"
   ]
  },
  {
   "cell_type": "code",
   "execution_count": 95,
   "metadata": {},
   "outputs": [
    {
     "data": {
      "text/plain": [
       "B          1155\n",
       "A          1132\n",
       "C           416\n",
       "D           103\n",
       "F            28\n",
       "INCOMPL       1\n",
       "Name: CORE_COURSE_GRADE_3_F, dtype: int64"
      ]
     },
     "execution_count": 95,
     "metadata": {},
     "output_type": "execute_result"
    }
   ],
   "source": [
    "data.CORE_COURSE_GRADE_3_F.value_counts().sort_values(ascending =False).head(10)"
   ]
  },
  {
   "cell_type": "code",
   "execution_count": 96,
   "metadata": {},
   "outputs": [],
   "source": [
    "data['CORE_COURSE_GRADE_3_F'] = data['CORE_COURSE_GRADE_3_F'].fillna(value ='B')"
   ]
  },
  {
   "cell_type": "code",
   "execution_count": 97,
   "metadata": {},
   "outputs": [
    {
     "data": {
      "text/plain": [
       "['B', 'A', 'C', 'D', 'F', 'INCOMPL']"
      ]
     },
     "execution_count": 97,
     "metadata": {},
     "output_type": "execute_result"
    }
   ],
   "source": [
    "top_5 = [x for x in data.CORE_COURSE_GRADE_3_F.value_counts().sort_values(ascending =False).head(10).index]\n",
    "\n",
    "top_5"
   ]
  },
  {
   "cell_type": "code",
   "execution_count": 98,
   "metadata": {},
   "outputs": [
    {
     "data": {
      "text/html": [
       "<div>\n",
       "<style scoped>\n",
       "    .dataframe tbody tr th:only-of-type {\n",
       "        vertical-align: middle;\n",
       "    }\n",
       "\n",
       "    .dataframe tbody tr th {\n",
       "        vertical-align: top;\n",
       "    }\n",
       "\n",
       "    .dataframe thead th {\n",
       "        text-align: right;\n",
       "    }\n",
       "</style>\n",
       "<table border=\"1\" class=\"dataframe\">\n",
       "  <thead>\n",
       "    <tr style=\"text-align: right;\">\n",
       "      <th></th>\n",
       "      <th>CORE_COURSE_GRADE_3_F</th>\n",
       "      <th>B</th>\n",
       "      <th>A</th>\n",
       "      <th>C</th>\n",
       "      <th>D</th>\n",
       "      <th>F</th>\n",
       "      <th>INCOMPL</th>\n",
       "    </tr>\n",
       "  </thead>\n",
       "  <tbody>\n",
       "    <tr>\n",
       "      <td>0</td>\n",
       "      <td>A</td>\n",
       "      <td>0</td>\n",
       "      <td>1</td>\n",
       "      <td>0</td>\n",
       "      <td>0</td>\n",
       "      <td>0</td>\n",
       "      <td>0</td>\n",
       "    </tr>\n",
       "    <tr>\n",
       "      <td>1</td>\n",
       "      <td>A</td>\n",
       "      <td>0</td>\n",
       "      <td>1</td>\n",
       "      <td>0</td>\n",
       "      <td>0</td>\n",
       "      <td>0</td>\n",
       "      <td>0</td>\n",
       "    </tr>\n",
       "    <tr>\n",
       "      <td>2</td>\n",
       "      <td>A</td>\n",
       "      <td>0</td>\n",
       "      <td>1</td>\n",
       "      <td>0</td>\n",
       "      <td>0</td>\n",
       "      <td>0</td>\n",
       "      <td>0</td>\n",
       "    </tr>\n",
       "    <tr>\n",
       "      <td>3</td>\n",
       "      <td>B</td>\n",
       "      <td>1</td>\n",
       "      <td>0</td>\n",
       "      <td>0</td>\n",
       "      <td>0</td>\n",
       "      <td>0</td>\n",
       "      <td>0</td>\n",
       "    </tr>\n",
       "    <tr>\n",
       "      <td>4</td>\n",
       "      <td>A</td>\n",
       "      <td>0</td>\n",
       "      <td>1</td>\n",
       "      <td>0</td>\n",
       "      <td>0</td>\n",
       "      <td>0</td>\n",
       "      <td>0</td>\n",
       "    </tr>\n",
       "  </tbody>\n",
       "</table>\n",
       "</div>"
      ],
      "text/plain": [
       "  CORE_COURSE_GRADE_3_F  B  A  C  D  F  INCOMPL\n",
       "0                     A  0  1  0  0  0        0\n",
       "1                     A  0  1  0  0  0        0\n",
       "2                     A  0  1  0  0  0        0\n",
       "3                     B  1  0  0  0  0        0\n",
       "4                     A  0  1  0  0  0        0"
      ]
     },
     "execution_count": 98,
     "metadata": {},
     "output_type": "execute_result"
    }
   ],
   "source": [
    "for label in top_5:\n",
    "    data[label] = np.where(data['CORE_COURSE_GRADE_3_F']==label,1,0)\n",
    "    \n",
    "data[['CORE_COURSE_GRADE_3_F']+ top_5].head(5)"
   ]
  },
  {
   "cell_type": "code",
   "execution_count": 99,
   "metadata": {},
   "outputs": [],
   "source": [
    "data = data.rename(columns = {'A':'2017_ENGL_A',\n",
    "                              'B':'2017_HIST_B',\n",
    "                             'C':'2017_MATH_C',\n",
    "                             'D':'2017_CHEM_D',\n",
    "                             'NG':'2017_ITDS_NG'})"
   ]
  },
  {
   "cell_type": "code",
   "execution_count": 100,
   "metadata": {},
   "outputs": [],
   "source": [
    "data.drop(['CORE_COURSE_NAME_1_F','CORE_COURSE_GRADE_1_F','CORE_COURSE_NAME_2_F','CORE_COURSE_GRADE_2_F','CORE_COURSE_NAME_3_F',\n",
    "          'CORE_COURSE_GRADE_3_F'],axis =1,inplace = True)"
   ]
  },
  {
   "cell_type": "code",
   "execution_count": 101,
   "metadata": {},
   "outputs": [],
   "source": [
    "data.drop(['MOTHER_HI_EDU_DESC','DEGREE_GROUP_DESC'],axis =1,inplace = True)"
   ]
  },
  {
   "cell_type": "code",
   "execution_count": 102,
   "metadata": {},
   "outputs": [],
   "source": [
    "dummy = pd.get_dummies(data['STDNT_GENDER'])"
   ]
  },
  {
   "cell_type": "code",
   "execution_count": 103,
   "metadata": {},
   "outputs": [],
   "source": [
    "data =pd.concat([data,dummy],axis =1)"
   ]
  },
  {
   "cell_type": "code",
   "execution_count": 104,
   "metadata": {},
   "outputs": [],
   "source": [
    "dummy3 = pd.get_dummies(data['FATHER_HI_EDU_DESC'])\n",
    "\n",
    "data =pd.concat([data,dummy3],axis =1)"
   ]
  },
  {
   "cell_type": "code",
   "execution_count": 105,
   "metadata": {},
   "outputs": [],
   "source": [
    "dummy1 = pd.get_dummies(data['IN_STATE_FLAG'])\n",
    "\n",
    "data =pd.concat([data,dummy1],axis =1)"
   ]
  },
  {
   "cell_type": "code",
   "execution_count": 106,
   "metadata": {},
   "outputs": [],
   "source": [
    "data = data.rename(columns ={'F':'FEMALE','M':'MALE','Y':'IN_STATE','N':'OUT_STATE'})"
   ]
  },
  {
   "cell_type": "code",
   "execution_count": 107,
   "metadata": {},
   "outputs": [],
   "source": [
    "dummy2 = pd.get_dummies(data['HOUSING_STS'])\n",
    "\n",
    "data =pd.concat([data,dummy2],axis =1)"
   ]
  },
  {
   "cell_type": "code",
   "execution_count": 108,
   "metadata": {},
   "outputs": [],
   "source": [
    "data.drop(['STDNT_MAJOR','STDNT_BACKGROUND','STDNT_GENDER','IN_STATE_FLAG','HOUSING_STS'],axis =1,inplace =True)"
   ]
  },
  {
   "cell_type": "code",
   "execution_count": 109,
   "metadata": {},
   "outputs": [],
   "source": [
    "#MIN MAX SCALAR\n",
    "\n",
    "from sklearn.preprocessing import MinMaxScaler"
   ]
  },
  {
   "cell_type": "code",
   "execution_count": 110,
   "metadata": {},
   "outputs": [],
   "source": [
    "data_min_max = data[['GROSS_FIN_NEED','COST_OF_ATTEND','EST_FAM_CONTRIBUTION','UNMET_NEED','DISTANCE_FROM_HOME','HIGH_SCHL_GPA']]\n",
    "\n",
    "min_max_scaler = MinMaxScaler()"
   ]
  },
  {
   "cell_type": "code",
   "execution_count": 111,
   "metadata": {},
   "outputs": [
    {
     "data": {
      "text/plain": [
       "MinMaxScaler()"
      ]
     },
     "execution_count": 111,
     "metadata": {},
     "output_type": "execute_result"
    }
   ],
   "source": [
    "min_max_scaler.fit(data[['GROSS_FIN_NEED','COST_OF_ATTEND','EST_FAM_CONTRIBUTION','UNMET_NEED','DISTANCE_FROM_HOME','HIGH_SCHL_GPA']])"
   ]
  },
  {
   "cell_type": "code",
   "execution_count": 112,
   "metadata": {},
   "outputs": [],
   "source": [
    "array1 = min_max_scaler.transform(data[['GROSS_FIN_NEED','COST_OF_ATTEND','EST_FAM_CONTRIBUTION','UNMET_NEED','DISTANCE_FROM_HOME','HIGH_SCHL_GPA']])"
   ]
  },
  {
   "cell_type": "code",
   "execution_count": 113,
   "metadata": {},
   "outputs": [],
   "source": [
    "df = pd.DataFrame(data = array1,columns =['GROSS_FIN_NEED','COST_OF_ATTEND','EST_FAM_CONTRIBUTION','UNMET_NEED','DISTANCE_FROM_HOME','HIGH_SCHL_GPA'])"
   ]
  },
  {
   "cell_type": "code",
   "execution_count": 114,
   "metadata": {},
   "outputs": [],
   "source": [
    "data = data.drop(columns =['GROSS_FIN_NEED','COST_OF_ATTEND','EST_FAM_CONTRIBUTION','UNMET_NEED','DISTANCE_FROM_HOME','HIGH_SCHL_GPA'])"
   ]
  },
  {
   "cell_type": "code",
   "execution_count": 115,
   "metadata": {},
   "outputs": [],
   "source": [
    "data = data.join(df)"
   ]
  },
  {
   "cell_type": "code",
   "execution_count": 116,
   "metadata": {},
   "outputs": [
    {
     "data": {
      "text/plain": [
       "count    3400.000000\n",
       "mean        0.142784\n",
       "std         0.227599\n",
       "min         0.000000\n",
       "25%         0.000000\n",
       "50%         0.000000\n",
       "75%         0.282169\n",
       "max         1.000000\n",
       "Name: GROSS_FIN_NEED, dtype: float64"
      ]
     },
     "execution_count": 116,
     "metadata": {},
     "output_type": "execute_result"
    }
   ],
   "source": [
    "data['GROSS_FIN_NEED'].describe()"
   ]
  },
  {
   "cell_type": "code",
   "execution_count": 117,
   "metadata": {},
   "outputs": [],
   "source": [
    "data = data.rename(columns = {'College/Beyond':'FAT_EDU_3','High School':'FAT_EDU_2','Middle School/Junior High':'FAT_EDU_1',\n",
    "                             'No Information':'FAT_EDU_NO_INFO','Other/Unknown':'FAT_EDU_UNKNOWN'})"
   ]
  },
  {
   "cell_type": "code",
   "execution_count": 118,
   "metadata": {},
   "outputs": [],
   "source": [
    "data['FAT_EDU_3'] = data.FAT_EDU_3.astype(int)\n",
    "\n",
    "data['FAT_EDU_2'] = data.FAT_EDU_2.astype(int)\n",
    "\n",
    "data['FAT_EDU_1'] = data.FAT_EDU_1.astype(int)\n",
    "\n",
    "data['FAT_EDU_NO_INFO'] = data.FAT_EDU_NO_INFO.astype(int)\n",
    "\n",
    "data['FAT_EDU_UNKNOWN'] = data.FAT_EDU_UNKNOWN.astype(int)\n",
    "\n",
    "data['FEMALE'] = data.FEMALE.astype(int)\n",
    "\n",
    "data['MALE'] = data.MALE.astype(int)\n",
    "\n",
    "data['OUT_STATE'] = data.OUT_STATE.astype(int)\n",
    "\n",
    "data['IN_STATE'] = data.IN_STATE.astype(int)"
   ]
  },
  {
   "cell_type": "code",
   "execution_count": 119,
   "metadata": {},
   "outputs": [],
   "source": [
    "data = data.rename(columns = {'OFF_CAMPUS_3':'OFF_CAMPUS_','ON_CAMPUS':'ON_CAMPUS_',})"
   ]
  },
  {
   "cell_type": "code",
   "execution_count": null,
   "metadata": {},
   "outputs": [],
   "source": [
    "data['OFF_CAMPUS_']=data.OUT_STATE.astype(int)\n",
    "data['ON_CAMPUS_']=data.IN_STATE.astype(int) "
   ]
  },
  {
   "cell_type": "code",
   "execution_count": null,
   "metadata": {},
   "outputs": [],
   "source": []
  },
  {
   "cell_type": "code",
   "execution_count": 122,
   "metadata": {},
   "outputs": [],
   "source": [
    "data.drop(['FEMALE','Off Campus','On Campus','FATHER_HI_EDU_DESC','CORE_COURSE_NAME_1_S','CORE_COURSE_GRADE_1_S','CORE_COURSE_NAME_2_S',\n",
    "          'CORE_COURSE_GRADE_2_S','CORE_COURSE_GRADE_3_S','CORE_COURSE_NAME_3_S','INTERNATIONAL_STS'],axis =1,inplace = True)"
   ]
  },
  {
   "cell_type": "code",
   "execution_count": 123,
   "metadata": {},
   "outputs": [],
   "source": [
    "data.drop(['STDNT_AGE','Early Childhood Education','HIGH_SCHL_GPA','SECOND_TERM_PERFORMANCE','2015_HIST','2015_CHEM','2015_POLS','2015_BIOL',\n",
    "          '2016_HIST','2016_MATH','2016_COMM','2016_ECON','2016_PSYC','2017_ENGL','2017_CHEM','2017_MUSC','2017_PSYC'],axis =1,inplace = True)"
   ]
  },
  {
   "cell_type": "code",
   "execution_count": 124,
   "metadata": {},
   "outputs": [],
   "source": [
    "X = data.drop('RETURNED_2ND_YR',axis =1)\n",
    "\n",
    "y = data['RETURNED_2ND_YR']"
   ]
  },
  {
   "cell_type": "code",
   "execution_count": 129,
   "metadata": {},
   "outputs": [
    {
     "name": "stderr",
     "output_type": "stream",
     "text": [
      "C:\\Users\\viksb\\Anaconda3\\lib\\site-packages\\numpy\\core\\fromnumeric.py:2389: FutureWarning: Method .ptp is deprecated and will be removed in a future version. Use numpy.ptp instead.\n",
      "  return ptp(axis=axis, out=out, **kwargs)\n"
     ]
    },
    {
     "name": "stdout",
     "output_type": "stream",
     "text": [
      "                            OLS Regression Results                            \n",
      "==============================================================================\n",
      "Dep. Variable:        RETURNED_2ND_YR   R-squared:                       0.092\n",
      "Model:                            OLS   Adj. R-squared:                  0.075\n",
      "Method:                 Least Squares   F-statistic:                     5.385\n",
      "Date:                Thu, 25 Jun 2020   Prob (F-statistic):           4.03e-37\n",
      "Time:                        17:29:03   Log-Likelihood:                -1621.5\n",
      "No. Observations:                3400   AIC:                             3371.\n",
      "Df Residuals:                    3336   BIC:                             3763.\n",
      "Df Model:                          63                                         \n",
      "Covariance Type:            nonrobust                                         \n",
      "============================================================================================\n",
      "                               coef    std err          t      P>|t|      [0.025      0.975]\n",
      "--------------------------------------------------------------------------------------------\n",
      "const                       -6.4121      3.400     -1.886      0.059     -13.078       0.254\n",
      "STUDENT IDENTIFIER        6.402e-08   8.43e-08      0.760      0.447   -1.01e-07    2.29e-07\n",
      "STDNT_TEST_ENTRANCE_COMB  9.174e-05   5.04e-05      1.821      0.069   -7.06e-06       0.000\n",
      "FIRST_TERM                   3.2103      1.702      1.886      0.059      -0.127       6.548\n",
      "SECOND_TERM                 -3.2018      1.698     -1.886      0.059      -6.531       0.127\n",
      "FIRST_TERM_PERFORMANCE       0.1779      0.051      3.510      0.000       0.079       0.277\n",
      "OUT_STATE                   -3.3423      1.701     -1.965      0.049      -6.677      -0.008\n",
      "IN_STATE                    -3.0698      1.700     -1.805      0.071      -6.404       0.264\n",
      "Undeclared                   0.0365      0.021      1.720      0.086      -0.005       0.078\n",
      "Biology                      0.0634      0.025      2.584      0.010       0.015       0.112\n",
      "Pre-Nursing                  0.0947      0.035      2.703      0.007       0.026       0.163\n",
      "Nursing                      0.0711      0.035      2.052      0.040       0.003       0.139\n",
      "Psychology                   0.0750      0.034      2.226      0.026       0.009       0.141\n",
      "Pre-Business                 0.0374      0.037      1.001      0.317      -0.036       0.111\n",
      "Theatre Arts                -0.1364      0.037     -3.656      0.000      -0.210      -0.063\n",
      "Music Performance           -0.1150      0.043     -2.706      0.007      -0.198      -0.032\n",
      "Criminal Justice             0.1052      0.041      2.537      0.011       0.024       0.186\n",
      "BGD 1                       -0.1031      0.071     -1.456      0.146      -0.242       0.036\n",
      "BGD 3                       -0.1896      0.072     -2.647      0.008      -0.330      -0.049\n",
      "BGD 4                       -0.1565      0.078     -2.002      0.045      -0.310      -0.003\n",
      "BGD 2                       -0.1588      0.080     -1.983      0.047      -0.316      -0.002\n",
      "BGD 6                       -0.1983      0.081     -2.440      0.015      -0.358      -0.039\n",
      "2015_ENGL                    0.0406      0.020      2.027      0.043       0.001       0.080\n",
      "2015_MATH                   -0.0243      0.025     -0.968      0.333      -0.073       0.025\n",
      "2015_COMM                   -0.0299      0.026     -1.135      0.257      -0.081       0.022\n",
      "2015_ARTH                    0.0511      0.031      1.647      0.100      -0.010       0.112\n",
      "2015_ECON                    0.0831      0.031      2.660      0.008       0.022       0.144\n",
      "2015_CPSC                    0.0456      0.039      1.165      0.244      -0.031       0.122\n",
      "2016_ENGL                    0.0309      0.019      1.635      0.102      -0.006       0.068\n",
      "2016_CHEM                   -0.0532      0.027     -1.991      0.047      -0.106      -0.001\n",
      "2016_POLS                    0.0786      0.036      2.208      0.027       0.009       0.148\n",
      "2016_ARTH                    0.0347      0.038      0.923      0.356      -0.039       0.108\n",
      "2016_MUSC                    0.0798      0.041      1.929      0.054      -0.001       0.161\n",
      "2017_HIST                   -0.0239      0.024     -0.983      0.325      -0.071       0.024\n",
      "2017_MATH                   -0.0331      0.024     -1.364      0.173      -0.081       0.015\n",
      "2017_ITDS                   -0.0810      0.033     -2.474      0.013      -0.145      -0.017\n",
      "2017_COMM                   -0.0917      0.033     -2.802      0.005      -0.156      -0.028\n",
      "2017_POLS                   -0.0809      0.035     -2.330      0.020      -0.149      -0.013\n",
      "2017_THEA                   -0.0726      0.040     -1.813      0.070      -0.151       0.006\n",
      "2015_MATH_C                  0.0022      0.038      0.057      0.955      -0.072       0.077\n",
      "2015_HIST_B                 -0.0583      0.040     -1.462      0.144      -0.136       0.020\n",
      "2015_CHEM_D                  0.0861      0.040      2.164      0.031       0.008       0.164\n",
      "2015_ITDS_F                  0.1551      0.043      3.636      0.000       0.071       0.239\n",
      "2015_ENGL_A                 -0.0131      0.048     -0.275      0.783      -0.106       0.080\n",
      "NOT REP                     -0.2439      0.237     -1.030      0.303      -0.708       0.220\n",
      "INCOMPL                     -0.5906      0.411     -1.437      0.151      -1.396       0.215\n",
      "2016_HIST_B                 -0.0267      0.046     -0.580      0.562      -0.117       0.064\n",
      "2016_MATH_C                  0.0133      0.049      0.273      0.785      -0.082       0.109\n",
      "2016_ENGL_A                 -0.0352      0.046     -0.759      0.448      -0.126       0.056\n",
      "2016_CHEM_D                 -0.0149      0.056     -0.267      0.789      -0.125       0.095\n",
      "2016_ITDS_F                  0.1134      0.069      1.644      0.100      -0.022       0.249\n",
      "2017_HIST_B                 -0.3495      0.090     -3.879      0.000      -0.526      -0.173\n",
      "2017_ENGL_A                 -0.3487      0.092     -3.800      0.000      -0.529      -0.169\n",
      "2017_MATH_C                 -0.3372      0.089     -3.770      0.000      -0.513      -0.162\n",
      "2017_CHEM_D                 -0.2839      0.090     -3.171      0.002      -0.459      -0.108\n",
      "MALE                        -0.0475      0.015     -3.167      0.002      -0.077      -0.018\n",
      "FAT_EDU_3                   -1.3047      0.681     -1.917      0.055      -2.639       0.030\n",
      "FAT_EDU_2                   -1.2900      0.681     -1.895      0.058      -2.625       0.045\n",
      "FAT_EDU_1                   -1.2452      0.682     -1.827      0.068      -2.582       0.091\n",
      "FAT_EDU_NO_INFO             -1.2841      0.678     -1.895      0.058      -2.613       0.045\n",
      "FAT_EDU_UNKNOWN             -1.2881      0.681     -1.892      0.059      -2.623       0.047\n",
      "OUT_STATE                   -3.1884      1.700     -1.875      0.061      -6.522       0.145\n",
      "IN_STATE                    -3.2237      1.700     -1.897      0.058      -6.556       0.109\n",
      "GROSS_FIN_NEED              -0.2032      0.093     -2.180      0.029      -0.386      -0.020\n",
      "COST_OF_ATTEND               0.1115      0.062      1.795      0.073      -0.010       0.233\n",
      "EST_FAM_CONTRIBUTION        -0.1299      0.085     -1.526      0.127      -0.297       0.037\n",
      "UNMET_NEED                   0.3898      0.136      2.874      0.004       0.124       0.656\n",
      "DISTANCE_FROM_HOME           0.1100      0.021      5.289      0.000       0.069       0.151\n",
      "==============================================================================\n",
      "Omnibus:                      557.435   Durbin-Watson:                   1.674\n",
      "Prob(Omnibus):                  0.000   Jarque-Bera (JB):              882.225\n",
      "Skew:                           1.247   Prob(JB):                    2.67e-192\n",
      "Kurtosis:                       3.075   Cond. No.                     1.06e+16\n",
      "==============================================================================\n",
      "\n",
      "Warnings:\n",
      "[1] Standard Errors assume that the covariance matrix of the errors is correctly specified.\n",
      "[2] The smallest eigenvalue is 1.88e-15. This might indicate that there are\n",
      "strong multicollinearity problems or that the design matrix is singular.\n"
     ]
    }
   ],
   "source": [
    "train_x1 = sm.add_constant(X)\n",
    "model = sm.OLS(y, X)\n",
    "result = model.fit()\n",
    "print(result.summary())"
   ]
  },
  {
   "cell_type": "code",
   "execution_count": 125,
   "metadata": {},
   "outputs": [],
   "source": [
    "X_train,X_test,Y_train,Y_test = train_test_split(X,y,test_size =0.2,random_state =110)"
   ]
  },
  {
   "cell_type": "code",
   "execution_count": 126,
   "metadata": {},
   "outputs": [
    {
     "data": {
      "text/plain": [
       "0"
      ]
     },
     "execution_count": 126,
     "metadata": {},
     "output_type": "execute_result"
    }
   ],
   "source": [
    "Y_train.isnull().sum()"
   ]
  },
  {
   "cell_type": "code",
   "execution_count": null,
   "metadata": {},
   "outputs": [],
   "source": [
    "conda install -c conda-forge imbalanced-learn"
   ]
  },
  {
   "cell_type": "code",
   "execution_count": 152,
   "metadata": {},
   "outputs": [],
   "source": [
    "from imblearn.over_sampling import SMOTE\n",
    "\n",
    "oversampler = SMOTE(random_state =110)\n",
    "X_train,Y_train = oversampler.fit_sample(X_train,Y_train)\n"
   ]
  },
  {
   "cell_type": "code",
   "execution_count": 128,
   "metadata": {},
   "outputs": [
    {
     "name": "stdout",
     "output_type": "stream",
     "text": [
      "Number transactions X_train dataset:  (4254, 68)\n",
      "Number transactions Y_train dataset:  (4254,)\n",
      "Number transactions X_test dataset:  (680, 68)\n",
      "Number transactions Y_test dataset:  (680,)\n"
     ]
    }
   ],
   "source": [
    "print('Number transactions X_train dataset: ',X_train.shape)\n",
    "\n",
    "print('Number transactions Y_train dataset: ',Y_train.shape)\n",
    "\n",
    "print('Number transactions X_test dataset: ',X_test.shape)\n",
    "\n",
    "print('Number transactions Y_test dataset: ',Y_test.shape)"
   ]
  },
  {
   "cell_type": "code",
   "execution_count": 131,
   "metadata": {},
   "outputs": [
    {
     "name": "stdout",
     "output_type": "stream",
     "text": [
      "==============================\n",
      "RandomForestClassifier\n",
      "****Results****\n",
      "Accuracy: 80.4412%\n",
      "Log Loss: 0.47564527774970267\n",
      "==============================\n",
      "AdaBoostClassifier\n",
      "****Results****\n",
      "Accuracy: 81.0294%\n",
      "Log Loss: 0.6840564567076135\n",
      "==============================\n",
      "GradientBoostingClassifier\n",
      "****Results****\n",
      "Accuracy: 81.9118%\n",
      "Log Loss: 0.4544370491139824\n",
      "==============================\n"
     ]
    }
   ],
   "source": [
    "from sklearn.ensemble import RandomForestClassifier, AdaBoostClassifier, GradientBoostingClassifier\n",
    "from sklearn.metrics import accuracy_score\n",
    "from sklearn.metrics import accuracy_score, log_loss\n",
    "\n",
    "classifiers = [\n",
    "    RandomForestClassifier(),\n",
    "    AdaBoostClassifier(),\n",
    "    GradientBoostingClassifier(),\n",
    "   \n",
    "]\n",
    "    \n",
    "\"\"\" Logging for visual comparison. \"\"\" \n",
    "\n",
    "log_cols=[\"Classifier\", \"Accuracy\", \"Log Loss\"]\n",
    "log = pd.DataFrame(columns=log_cols)\n",
    "\n",
    "\"\"\" Iterate through each classification model stated above, fitting the model to the train data and finally\n",
    "    printing the accuracy and log loss of each model. \"\"\"\n",
    "\n",
    "for clf in classifiers:\n",
    "    clf.fit(X_train, Y_train)\n",
    "    name = clf.__class__.__name__\n",
    "    \n",
    "    print(\"=\"*30)\n",
    "    print(name)\n",
    "    \n",
    "    print('****Results****')\n",
    "    train_predictions = clf.predict(X_test)\n",
    "    acc = accuracy_score(Y_test, train_predictions)\n",
    "    print(\"Accuracy: {:.4%}\".format(acc))\n",
    "    \n",
    "    train_predictions = clf.predict_proba(X_test)\n",
    "    ll = log_loss(Y_test, train_predictions)\n",
    "    print(\"Log Loss: {}\".format(ll))\n",
    "    \n",
    "    log_entry = pd.DataFrame([[name, acc*100, ll]], columns=log_cols)\n",
    "    log = log.append(log_entry)\n",
    "    \n",
    "print(\"=\"*30)"
   ]
  },
  {
   "cell_type": "code",
   "execution_count": 132,
   "metadata": {},
   "outputs": [],
   "source": [
    "log1 = log.sort_values(by='Accuracy',ascending=False)\n",
    "log2 = log.sort_values(by='Log Loss')"
   ]
  },
  {
   "cell_type": "code",
   "execution_count": 133,
   "metadata": {},
   "outputs": [
    {
     "data": {
      "image/png": "[encoded data removed]",
      "text/plain": [
       "<Figure size 432x288 with 1 Axes>"
      ]
     },
     "metadata": {},
     "output_type": "display_data"
    },
    {
     "data": {
      "image/png": "[encoded data removed]",
      "text/plain": [
       "<Figure size 864x288 with 1 Axes>"
      ]
     },
     "metadata": {},
     "output_type": "display_data"
    }
   ],
   "source": [
    "fig = sns.barplot(x='Accuracy', y='Classifier', data=log1, palette=sns.color_palette(\"Blues_r\", n_colors=len('classifier')))\n",
    "plt.xlabel('Accuracy %', fontsize=18)\n",
    "plt.ylabel('Classifier Model',fontsize=18, position=(0,1),rotation=0)\n",
    "fig.yaxis.labelpad= -125\n",
    "fig.set_xticks(ticks=[0,10,20,30,40,50,60,70,80,90])\n",
    "plt.xticks(fontsize=18)\n",
    "plt.yticks(fontsize=16)\n",
    "plt.title('Classifier Accuracy', fontsize=18)\n",
    "plt.axvline(83.8, 0,1, lw=4, color='red')\n",
    "plt.annotate(s='Baseline:0.21%', xy=(75,-0.5), fontsize=16, color='black')\n",
    "plt.show()\n",
    "\n",
    "plt.figure(figsize=(12,4))\n",
    "fig = sns.barplot(x='Log Loss', y='Classifier', data=log2, palette=sns.color_palette(\"Blues\", n_colors=len('Classifier')))\n",
    "plt.xlabel('Log Loss', fontsize=18)\n",
    "plt.ylabel('Classifier Model',fontsize=18, position=(0,1),rotation=0)\n",
    "fig.yaxis.labelpad= -125\n",
    "plt.xticks(fontsize=18)\n",
    "plt.yticks(fontsize=16)\n",
    "plt.title('Classifier Log Loss', fontsize=18)\n",
    "plt.show()"
   ]
  },
  {
   "cell_type": "code",
   "execution_count": 134,
   "metadata": {},
   "outputs": [],
   "source": [
    "## GRADIENTBOOSTING CLASSIFIER\n",
    "\n",
    "from sklearn.ensemble import GradientBoostingClassifier"
   ]
  },
  {
   "cell_type": "code",
   "execution_count": 135,
   "metadata": {},
   "outputs": [],
   "source": [
    "clf = GradientBoostingClassifier(n_estimators = 120,random_state =100)"
   ]
  },
  {
   "cell_type": "code",
   "execution_count": 136,
   "metadata": {},
   "outputs": [
    {
     "data": {
      "text/plain": [
       "GradientBoostingClassifier(n_estimators=120, random_state=100)"
      ]
     },
     "execution_count": 136,
     "metadata": {},
     "output_type": "execute_result"
    }
   ],
   "source": [
    "clf.fit(X_train,Y_train)"
   ]
  },
  {
   "cell_type": "code",
   "execution_count": 137,
   "metadata": {},
   "outputs": [
    {
     "data": {
      "text/plain": [
       "0.8220588235294117"
      ]
     },
     "execution_count": 137,
     "metadata": {},
     "output_type": "execute_result"
    }
   ],
   "source": [
    "clf.score(X_test,Y_test)"
   ]
  },
  {
   "cell_type": "code",
   "execution_count": 138,
   "metadata": {},
   "outputs": [],
   "source": [
    "from sklearn.model_selection import GridSearchCV"
   ]
  },
  {
   "cell_type": "code",
   "execution_count": 139,
   "metadata": {},
   "outputs": [
    {
     "data": {
      "text/plain": [
       "GridSearchCV(estimator=GradientBoostingClassifier(n_estimators=120,\n",
       "                                                  random_state=100),\n",
       "             param_grid={'n_estimators': [10, 20, 30, 40, 50, 60, 70, 80, 90,\n",
       "                                          100, 110, 120, 130, 140, 150, 160,\n",
       "                                          170, 180, 190]})"
      ]
     },
     "execution_count": 139,
     "metadata": {},
     "output_type": "execute_result"
    }
   ],
   "source": [
    "mod = GridSearchCV(clf,param_grid ={'n_estimators':np.arange(10,200,10).tolist()})\n",
    "\n",
    "mod.fit(X_train,Y_train)"
   ]
  },
  {
   "cell_type": "code",
   "execution_count": 140,
   "metadata": {},
   "outputs": [
    {
     "data": {
      "text/plain": [
       "{'n_estimators': 80}"
      ]
     },
     "execution_count": 140,
     "metadata": {},
     "output_type": "execute_result"
    }
   ],
   "source": [
    "mod.best_params_"
   ]
  },
  {
   "cell_type": "code",
   "execution_count": 141,
   "metadata": {},
   "outputs": [],
   "source": [
    "clf =GradientBoostingClassifier(n_estimators=110,random_state=200)"
   ]
  },
  {
   "cell_type": "code",
   "execution_count": 142,
   "metadata": {},
   "outputs": [
    {
     "data": {
      "text/plain": [
       "0.8235294117647058"
      ]
     },
     "execution_count": 142,
     "metadata": {},
     "output_type": "execute_result"
    }
   ],
   "source": [
    "clf.fit(X_train,Y_train)\n",
    "\n",
    "clf.score(X_test,Y_test)"
   ]
  },
  {
   "cell_type": "code",
   "execution_count": 144,
   "metadata": {},
   "outputs": [
    {
     "data": {
      "text/plain": [
       "<matplotlib.axes._subplots.AxesSubplot at 0x137e64f5948>"
      ]
     },
     "execution_count": 144,
     "metadata": {},
     "output_type": "execute_result"
    },
    {
     "data": {
      "image/png": "[encoded data removed]",
      "text/plain": [
       "<Figure size 1080x432 with 1 Axes>"
      ]
     },
     "metadata": {},
     "output_type": "display_data"
    }
   ],
   "source": [
    "#FEATURE IMPORTANCE\n",
    "\n",
    "feature_imp = pd.Series(clf.feature_importances_,index = X.columns)\n",
    "\n",
    "plt.figure(figsize=(15,6))\n",
    "feature_imp.sort_values(ascending = False).plot(kind ='bar')"
   ]
  },
  {
   "cell_type": "code",
   "execution_count": 145,
   "metadata": {},
   "outputs": [
    {
     "data": {
      "text/plain": [
       "2017_ENGL_A    0.115265\n",
       "MALE           0.100052\n",
       "BGD 1          0.090599\n",
       "2017_HIST_B    0.090554\n",
       "2015_HIST_B    0.081464\n",
       "                 ...   \n",
       "BGD 6          0.000000\n",
       "2015_ENGL_A    0.000000\n",
       "NOT REP        0.000000\n",
       "INCOMPL        0.000000\n",
       "const          0.000000\n",
       "Length: 68, dtype: float64"
      ]
     },
     "execution_count": 145,
     "metadata": {},
     "output_type": "execute_result"
    }
   ],
   "source": [
    "feature_imp = pd.Series(clf.feature_importances_,index = X.columns)\n",
    "feature_imp.sort_values(ascending = False)"
   ]
  },
  {
   "cell_type": "code",
   "execution_count": 146,
   "metadata": {},
   "outputs": [
    {
     "name": "stdout",
     "output_type": "stream",
     "text": [
      "680\n",
      "0.8235294117647058\n",
      "0.15384615384615385\n",
      "[[540  10]\n",
      " [110  20]]\n"
     ]
    }
   ],
   "source": [
    "from sklearn.metrics import accuracy_score,recall_score,confusion_matrix\n",
    "\n",
    "Y_pred = clf.predict(X_test)\n",
    "\n",
    "print(len(X_test))\n",
    "\n",
    "print(accuracy_score(Y_test,Y_pred))\n",
    "\n",
    "print(recall_score(Y_test,Y_pred))\n",
    "\n",
    "print(confusion_matrix(Y_test,Y_pred))"
   ]
  },
  {
   "cell_type": "code",
   "execution_count": 147,
   "metadata": {},
   "outputs": [
    {
     "name": "stdout",
     "output_type": "stream",
     "text": [
      "              precision    recall  f1-score   support\n",
      "\n",
      "         0.0       0.83      0.98      0.90       550\n",
      "         1.0       0.67      0.15      0.25       130\n",
      "\n",
      "    accuracy                           0.82       680\n",
      "   macro avg       0.75      0.57      0.57       680\n",
      "weighted avg       0.80      0.82      0.78       680\n",
      "\n"
     ]
    }
   ],
   "source": [
    "#CLASSIFICATION RESULTS\n",
    "\n",
    "from sklearn.metrics import classification_report\n",
    "\n",
    "print(classification_report(Y_test,Y_pred))"
   ]
  },
  {
   "cell_type": "code",
   "execution_count": 148,
   "metadata": {},
   "outputs": [
    {
     "data": {
      "text/plain": [
       "0.6934825174825175"
      ]
     },
     "execution_count": 148,
     "metadata": {},
     "output_type": "execute_result"
    }
   ],
   "source": [
    "#ROC - AUC - SCORE\n",
    "\n",
    "import sklearn.metrics as metrics\n",
    "\n",
    "metrics.roc_auc_score(Y_test,clf.predict_proba(X_test)[:,1])"
   ]
  },
  {
   "cell_type": "code",
   "execution_count": 149,
   "metadata": {},
   "outputs": [
    {
     "data": {
      "image/png": "[encoded data removed]",
      "text/plain": [
       "<Figure size 432x288 with 1 Axes>"
      ]
     },
     "metadata": {},
     "output_type": "display_data"
    }
   ],
   "source": [
    "from sklearn.metrics import plot_roc_curve\n",
    "\n",
    "svc_disp = plot_roc_curve(clf,X_test,Y_test)\n",
    "\n",
    "plt.show()"
   ]
  },
  {
   "cell_type": "code",
   "execution_count": 150,
   "metadata": {},
   "outputs": [
    {
     "data": {
      "text/plain": [
       "array([0.78235294, 0.79705882, 0.79117647, 0.80294118, 0.79117647,\n",
       "       0.78529412, 0.79411765, 0.76764706, 0.75588235, 0.80588235])"
      ]
     },
     "execution_count": 150,
     "metadata": {},
     "output_type": "execute_result"
    }
   ],
   "source": [
    "from sklearn.model_selection import cross_val_score\n",
    "\n",
    "score = cross_val_score(clf,X,y,cv =10)\n",
    "\n",
    "score"
   ]
  },
  {
   "cell_type": "code",
   "execution_count": 151,
   "metadata": {},
   "outputs": [
    {
     "data": {
      "text/plain": [
       "0.7873529411764706"
      ]
     },
     "execution_count": 151,
     "metadata": {},
     "output_type": "execute_result"
    }
   ],
   "source": [
    "score.mean()"
   ]
  },
  {
   "cell_type": "code",
   "execution_count": null,
   "metadata": {},
   "outputs": [],
   "source": []
  }
 ],
 "metadata": {
  "kernelspec": {
   "display_name": "Python 3",
   "language": "python",
   "name": "python3"
  },
  "language_info": {
   "codemirror_mode": {
    "name": "ipython",
    "version": 3
   },
   "file_extension": ".py",
   "mimetype": "text/x-python",
   "name": "python",
   "nbconvert_exporter": "python",
   "pygments_lexer": "ipython3",
   "version": "3.7.4"
  }
 },
 "nbformat": 4,
 "nbformat_minor": 2
}
